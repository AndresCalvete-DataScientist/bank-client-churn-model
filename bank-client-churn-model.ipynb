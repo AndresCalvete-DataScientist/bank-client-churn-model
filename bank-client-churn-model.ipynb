{
 "cells": [
  {
   "cell_type": "markdown",
   "metadata": {},
   "source": [
    "# Clasificación de clientes para predicción de abandono en cuentas bancarias"
   ]
  },
  {
   "cell_type": "markdown",
   "metadata": {},
   "source": [
    "## Contenido\n",
    "\n",
    "* [Introducción](#intro)  \n",
    "* [1. Descripción y preparación de los datos](#data_review)\n",
    "* [2. Preparación para el modelo](#data_prep)\n",
    "    * [2.1. Estudio del balance de clases](#data_balance)\n",
    "    * [2.2. Selección de caracteristicas y objetivo](#char_select)\n",
    "    * [2.3. Escalado de características](#data_scaling)\n",
    "    * [2.4. Codificación One-Hot](#ohe)\n",
    "    * [2.5. Codificación ordinal](#ordinal)\n",
    "    * [2.6. Datasets de entrenamiento, validación y pruebas](#data_segment)\n",
    "* [3. Modelo desbalanceado](#desbalanced)\n",
    "    * [3.1. Modelo de bosque aleatorio de decisión](#model_random_forest_d)\n",
    "    * [3.2. Modelo de regresión logística](#model_logistic_regression_d)\n",
    "* [4. Balanceo de clases objetivo](#balancing)\n",
    "    * [4.1. Regresión logística](#model_logistic_regression_bal)\n",
    "    * [4.2. Bosque aleatorio de decisiones](#model_random_forest_bal)\n",
    "* [5. Selección y evaluación del modelo](#model_results)\n",
    "* [6. Predicciones en conjunto de pruebas](#predictions)\n",
    "* [Conclusiones](#end)"
   ]
  },
  {
   "cell_type": "markdown",
   "metadata": {},
   "source": [
    "## Introducción <a id=\"intro\"></a>"
   ]
  },
  {
   "cell_type": "markdown",
   "metadata": {},
   "source": [
    "Los clientes de Beta Bank están abandonando sus servicios, cada mes, poco a poco. Los banqueros descubrieron que es más barato salvar a los clientes existentes que atraer nuevos. Necesitamos predecir si un cliente dejará el banco pronto. Se tienen los datos sobre el comportamiento pasado de los clientes y la terminación de contratos con el banco. El objetivo es crear un modelo con el máximo valor F1 posible, en donde al menos tenga un valor de 0.59."
   ]
  },
  {
   "cell_type": "markdown",
   "metadata": {},
   "source": [
    "### Descripción de los datos"
   ]
  },
  {
   "cell_type": "markdown",
   "metadata": {},
   "source": [
    "__Características__\n",
    "\n",
    "- RowNumber: índice de cadena de datos.\n",
    "- CustomerId: identificador de cliente único.\n",
    "- Surname: apellido.\n",
    "- CreditScore: valor de crédito.\n",
    "- Geography: país de residencia.\n",
    "- Gender: sexo.\n",
    "- Age: edad.\n",
    "- Tenure: período durante el cual ha madurado el depósito a plazo fijo de un cliente (años).\n",
    "- Balance: saldo de la cuenta.\n",
    "- NumOfProducts: número de productos bancarios utilizados por el cliente.\n",
    "- HasCrCard: el cliente tiene una tarjeta de crédito (1 - sí; 0 - no).\n",
    "- IsActiveMember: actividad del cliente (1 - sí; 0 - no).\n",
    "- EstimatedSalary: salario estimado.\n",
    "\n",
    "__Objetivo__\n",
    "\n",
    "Exited: El cliente se ha ido (1 - sí; 0 - no)"
   ]
  },
  {
   "cell_type": "markdown",
   "metadata": {},
   "source": [
    "## 1. Descripción y preparación de los datos. <a id=\"data_review\"></a>"
   ]
  },
  {
   "cell_type": "code",
   "execution_count": 1,
   "metadata": {
    "trusted": true
   },
   "outputs": [],
   "source": [
    "# Se importan  las librerías necesarias.\n",
    "import pandas as pd\n",
    "import numpy as np\n",
    "import matplotlib.pyplot as plt\n",
    "from sklearn.preprocessing import StandardScaler\n",
    "from sklearn.preprocessing import OrdinalEncoder\n",
    "from sklearn.model_selection import train_test_split\n",
    "from sklearn.ensemble import RandomForestClassifier\n",
    "from sklearn.linear_model import LogisticRegression\n",
    "from sklearn.metrics import f1_score\n",
    "from sklearn.utils import shuffle\n",
    "from sklearn.metrics import roc_curve\n",
    "from sklearn.metrics import roc_auc_score\n",
    "from sklearn.metrics import accuracy_score"
   ]
  },
  {
   "cell_type": "code",
   "execution_count": null,
   "metadata": {
    "trusted": true
   },
   "outputs": [
    {
     "data": {
      "application/vnd.microsoft.datawrangler.viewer.v0+json": {
       "columns": [
        {
         "name": "index",
         "rawType": "int64",
         "type": "integer"
        },
        {
         "name": "RowNumber",
         "rawType": "int64",
         "type": "integer"
        },
        {
         "name": "CustomerId",
         "rawType": "int64",
         "type": "integer"
        },
        {
         "name": "Surname",
         "rawType": "object",
         "type": "string"
        },
        {
         "name": "CreditScore",
         "rawType": "int64",
         "type": "integer"
        },
        {
         "name": "Geography",
         "rawType": "object",
         "type": "string"
        },
        {
         "name": "Gender",
         "rawType": "object",
         "type": "string"
        },
        {
         "name": "Age",
         "rawType": "int64",
         "type": "integer"
        },
        {
         "name": "Tenure",
         "rawType": "float64",
         "type": "float"
        },
        {
         "name": "Balance",
         "rawType": "float64",
         "type": "float"
        },
        {
         "name": "NumOfProducts",
         "rawType": "int64",
         "type": "integer"
        },
        {
         "name": "HasCrCard",
         "rawType": "int64",
         "type": "integer"
        },
        {
         "name": "IsActiveMember",
         "rawType": "int64",
         "type": "integer"
        },
        {
         "name": "EstimatedSalary",
         "rawType": "float64",
         "type": "float"
        },
        {
         "name": "Exited",
         "rawType": "int64",
         "type": "integer"
        }
       ],
       "ref": "d54d0872-d10f-49d5-bdf0-8a2db499e05e",
       "rows": [
        [
         "0",
         "1",
         "15634602",
         "Hargrave",
         "619",
         "France",
         "Female",
         "42",
         "2.0",
         "0.0",
         "1",
         "1",
         "1",
         "101348.88",
         "1"
        ],
        [
         "1",
         "2",
         "15647311",
         "Hill",
         "608",
         "Spain",
         "Female",
         "41",
         "1.0",
         "83807.86",
         "1",
         "0",
         "1",
         "112542.58",
         "0"
        ],
        [
         "2",
         "3",
         "15619304",
         "Onio",
         "502",
         "France",
         "Female",
         "42",
         "8.0",
         "159660.8",
         "3",
         "1",
         "0",
         "113931.57",
         "1"
        ],
        [
         "3",
         "4",
         "15701354",
         "Boni",
         "699",
         "France",
         "Female",
         "39",
         "1.0",
         "0.0",
         "2",
         "0",
         "0",
         "93826.63",
         "0"
        ],
        [
         "4",
         "5",
         "15737888",
         "Mitchell",
         "850",
         "Spain",
         "Female",
         "43",
         "2.0",
         "125510.82",
         "1",
         "1",
         "1",
         "79084.1",
         "0"
        ]
       ],
       "shape": {
        "columns": 14,
        "rows": 5
       }
      },
      "text/html": [
       "<div>\n",
       "<style scoped>\n",
       "    .dataframe tbody tr th:only-of-type {\n",
       "        vertical-align: middle;\n",
       "    }\n",
       "\n",
       "    .dataframe tbody tr th {\n",
       "        vertical-align: top;\n",
       "    }\n",
       "\n",
       "    .dataframe thead th {\n",
       "        text-align: right;\n",
       "    }\n",
       "</style>\n",
       "<table border=\"1\" class=\"dataframe\">\n",
       "  <thead>\n",
       "    <tr style=\"text-align: right;\">\n",
       "      <th></th>\n",
       "      <th>RowNumber</th>\n",
       "      <th>CustomerId</th>\n",
       "      <th>Surname</th>\n",
       "      <th>CreditScore</th>\n",
       "      <th>Geography</th>\n",
       "      <th>Gender</th>\n",
       "      <th>Age</th>\n",
       "      <th>Tenure</th>\n",
       "      <th>Balance</th>\n",
       "      <th>NumOfProducts</th>\n",
       "      <th>HasCrCard</th>\n",
       "      <th>IsActiveMember</th>\n",
       "      <th>EstimatedSalary</th>\n",
       "      <th>Exited</th>\n",
       "    </tr>\n",
       "  </thead>\n",
       "  <tbody>\n",
       "    <tr>\n",
       "      <th>0</th>\n",
       "      <td>1</td>\n",
       "      <td>15634602</td>\n",
       "      <td>Hargrave</td>\n",
       "      <td>619</td>\n",
       "      <td>France</td>\n",
       "      <td>Female</td>\n",
       "      <td>42</td>\n",
       "      <td>2.0</td>\n",
       "      <td>0.00</td>\n",
       "      <td>1</td>\n",
       "      <td>1</td>\n",
       "      <td>1</td>\n",
       "      <td>101348.88</td>\n",
       "      <td>1</td>\n",
       "    </tr>\n",
       "    <tr>\n",
       "      <th>1</th>\n",
       "      <td>2</td>\n",
       "      <td>15647311</td>\n",
       "      <td>Hill</td>\n",
       "      <td>608</td>\n",
       "      <td>Spain</td>\n",
       "      <td>Female</td>\n",
       "      <td>41</td>\n",
       "      <td>1.0</td>\n",
       "      <td>83807.86</td>\n",
       "      <td>1</td>\n",
       "      <td>0</td>\n",
       "      <td>1</td>\n",
       "      <td>112542.58</td>\n",
       "      <td>0</td>\n",
       "    </tr>\n",
       "    <tr>\n",
       "      <th>2</th>\n",
       "      <td>3</td>\n",
       "      <td>15619304</td>\n",
       "      <td>Onio</td>\n",
       "      <td>502</td>\n",
       "      <td>France</td>\n",
       "      <td>Female</td>\n",
       "      <td>42</td>\n",
       "      <td>8.0</td>\n",
       "      <td>159660.80</td>\n",
       "      <td>3</td>\n",
       "      <td>1</td>\n",
       "      <td>0</td>\n",
       "      <td>113931.57</td>\n",
       "      <td>1</td>\n",
       "    </tr>\n",
       "    <tr>\n",
       "      <th>3</th>\n",
       "      <td>4</td>\n",
       "      <td>15701354</td>\n",
       "      <td>Boni</td>\n",
       "      <td>699</td>\n",
       "      <td>France</td>\n",
       "      <td>Female</td>\n",
       "      <td>39</td>\n",
       "      <td>1.0</td>\n",
       "      <td>0.00</td>\n",
       "      <td>2</td>\n",
       "      <td>0</td>\n",
       "      <td>0</td>\n",
       "      <td>93826.63</td>\n",
       "      <td>0</td>\n",
       "    </tr>\n",
       "    <tr>\n",
       "      <th>4</th>\n",
       "      <td>5</td>\n",
       "      <td>15737888</td>\n",
       "      <td>Mitchell</td>\n",
       "      <td>850</td>\n",
       "      <td>Spain</td>\n",
       "      <td>Female</td>\n",
       "      <td>43</td>\n",
       "      <td>2.0</td>\n",
       "      <td>125510.82</td>\n",
       "      <td>1</td>\n",
       "      <td>1</td>\n",
       "      <td>1</td>\n",
       "      <td>79084.10</td>\n",
       "      <td>0</td>\n",
       "    </tr>\n",
       "  </tbody>\n",
       "</table>\n",
       "</div>"
      ],
      "text/plain": [
       "   RowNumber  CustomerId   Surname  CreditScore Geography  Gender  Age  \\\n",
       "0          1    15634602  Hargrave          619    France  Female   42   \n",
       "1          2    15647311      Hill          608     Spain  Female   41   \n",
       "2          3    15619304      Onio          502    France  Female   42   \n",
       "3          4    15701354      Boni          699    France  Female   39   \n",
       "4          5    15737888  Mitchell          850     Spain  Female   43   \n",
       "\n",
       "   Tenure    Balance  NumOfProducts  HasCrCard  IsActiveMember  \\\n",
       "0     2.0       0.00              1          1               1   \n",
       "1     1.0   83807.86              1          0               1   \n",
       "2     8.0  159660.80              3          1               0   \n",
       "3     1.0       0.00              2          0               0   \n",
       "4     2.0  125510.82              1          1               1   \n",
       "\n",
       "   EstimatedSalary  Exited  \n",
       "0        101348.88       1  \n",
       "1        112542.58       0  \n",
       "2        113931.57       1  \n",
       "3         93826.63       0  \n",
       "4         79084.10       0  "
      ]
     },
     "execution_count": 2,
     "metadata": {},
     "output_type": "execute_result"
    }
   ],
   "source": [
    "# Importamos los datos del csv.\n",
    "data = pd.read_csv('/datasets/Churn.csv')\n",
    "data.head()"
   ]
  },
  {
   "cell_type": "code",
   "execution_count": 16,
   "metadata": {
    "trusted": true
   },
   "outputs": [
    {
     "name": "stdout",
     "output_type": "stream",
     "text": [
      "<class 'pandas.core.frame.DataFrame'>\n",
      "RangeIndex: 10000 entries, 0 to 9999\n",
      "Data columns (total 14 columns):\n",
      " #   Column           Non-Null Count  Dtype  \n",
      "---  ------           --------------  -----  \n",
      " 0   RowNumber        10000 non-null  int64  \n",
      " 1   CustomerId       10000 non-null  int64  \n",
      " 2   Surname          10000 non-null  object \n",
      " 3   CreditScore      10000 non-null  int64  \n",
      " 4   Geography        10000 non-null  object \n",
      " 5   Gender           10000 non-null  object \n",
      " 6   Age              10000 non-null  int64  \n",
      " 7   Tenure           9091 non-null   float64\n",
      " 8   Balance          10000 non-null  float64\n",
      " 9   NumOfProducts    10000 non-null  int64  \n",
      " 10  HasCrCard        10000 non-null  int64  \n",
      " 11  IsActiveMember   10000 non-null  int64  \n",
      " 12  EstimatedSalary  10000 non-null  float64\n",
      " 13  Exited           10000 non-null  int64  \n",
      "dtypes: float64(3), int64(8), object(3)\n",
      "memory usage: 1.1+ MB\n"
     ]
    }
   ],
   "source": [
    "# Examinamos la información de las columnas\n",
    "data.info()"
   ]
  },
  {
   "cell_type": "markdown",
   "metadata": {},
   "source": [
    "El tipo de datos es correcto para casi todas las columnas; sin embargo, una de las columnas tiene datos ausentes (Tenure) y también el tipo de dato podría ser entero, ya que no usa información decimal realmente. Analizaremos el contenido y los valores ausentes de esta columna más adelante."
   ]
  },
  {
   "cell_type": "code",
   "execution_count": 17,
   "metadata": {
    "trusted": true
   },
   "outputs": [
    {
     "data": {
      "application/vnd.microsoft.datawrangler.viewer.v0+json": {
       "columns": [
        {
         "name": "index",
         "rawType": "object",
         "type": "string"
        },
        {
         "name": "RowNumber",
         "rawType": "float64",
         "type": "float"
        },
        {
         "name": "CustomerId",
         "rawType": "float64",
         "type": "float"
        },
        {
         "name": "CreditScore",
         "rawType": "float64",
         "type": "float"
        },
        {
         "name": "Age",
         "rawType": "float64",
         "type": "float"
        },
        {
         "name": "Tenure",
         "rawType": "float64",
         "type": "float"
        },
        {
         "name": "Balance",
         "rawType": "float64",
         "type": "float"
        },
        {
         "name": "NumOfProducts",
         "rawType": "float64",
         "type": "float"
        },
        {
         "name": "HasCrCard",
         "rawType": "float64",
         "type": "float"
        },
        {
         "name": "IsActiveMember",
         "rawType": "float64",
         "type": "float"
        },
        {
         "name": "EstimatedSalary",
         "rawType": "float64",
         "type": "float"
        },
        {
         "name": "Exited",
         "rawType": "float64",
         "type": "float"
        }
       ],
       "ref": "20e08218-73fb-4329-80ce-63d45febd12c",
       "rows": [
        [
         "count",
         "10000.0",
         "10000.0",
         "10000.0",
         "10000.0",
         "9091.0",
         "10000.0",
         "10000.0",
         "10000.0",
         "10000.0",
         "10000.0",
         "10000.0"
        ],
        [
         "mean",
         "5000.5",
         "15690940.5694",
         "650.5288",
         "38.9218",
         "4.997690023099769",
         "76485.889288",
         "1.5302",
         "0.7055",
         "0.5151",
         "100090.239881",
         "0.2037"
        ],
        [
         "std",
         "2886.8956799071675",
         "71936.1861227489",
         "96.65329873613035",
         "10.487806451704609",
         "2.894723234821247",
         "62397.405202385955",
         "0.5816543579989906",
         "0.4558404644751333",
         "0.49979692845891893",
         "57510.49281769816",
         "0.4027685839948609"
        ],
        [
         "min",
         "1.0",
         "15565701.0",
         "350.0",
         "18.0",
         "0.0",
         "0.0",
         "1.0",
         "0.0",
         "0.0",
         "11.58",
         "0.0"
        ],
        [
         "25%",
         "2500.75",
         "15628528.25",
         "584.0",
         "32.0",
         "2.0",
         "0.0",
         "1.0",
         "0.0",
         "0.0",
         "51002.11",
         "0.0"
        ],
        [
         "50%",
         "5000.5",
         "15690738.0",
         "652.0",
         "37.0",
         "5.0",
         "97198.54000000001",
         "1.0",
         "1.0",
         "1.0",
         "100193.915",
         "0.0"
        ],
        [
         "75%",
         "7500.25",
         "15753233.75",
         "718.0",
         "44.0",
         "7.0",
         "127644.24",
         "2.0",
         "1.0",
         "1.0",
         "149388.2475",
         "0.0"
        ],
        [
         "max",
         "10000.0",
         "15815690.0",
         "850.0",
         "92.0",
         "10.0",
         "250898.09",
         "4.0",
         "1.0",
         "1.0",
         "199992.48",
         "1.0"
        ]
       ],
       "shape": {
        "columns": 11,
        "rows": 8
       }
      },
      "text/html": [
       "<div>\n",
       "<style scoped>\n",
       "    .dataframe tbody tr th:only-of-type {\n",
       "        vertical-align: middle;\n",
       "    }\n",
       "\n",
       "    .dataframe tbody tr th {\n",
       "        vertical-align: top;\n",
       "    }\n",
       "\n",
       "    .dataframe thead th {\n",
       "        text-align: right;\n",
       "    }\n",
       "</style>\n",
       "<table border=\"1\" class=\"dataframe\">\n",
       "  <thead>\n",
       "    <tr style=\"text-align: right;\">\n",
       "      <th></th>\n",
       "      <th>RowNumber</th>\n",
       "      <th>CustomerId</th>\n",
       "      <th>CreditScore</th>\n",
       "      <th>Age</th>\n",
       "      <th>Tenure</th>\n",
       "      <th>Balance</th>\n",
       "      <th>NumOfProducts</th>\n",
       "      <th>HasCrCard</th>\n",
       "      <th>IsActiveMember</th>\n",
       "      <th>EstimatedSalary</th>\n",
       "      <th>Exited</th>\n",
       "    </tr>\n",
       "  </thead>\n",
       "  <tbody>\n",
       "    <tr>\n",
       "      <th>count</th>\n",
       "      <td>10000.00000</td>\n",
       "      <td>1.000000e+04</td>\n",
       "      <td>10000.000000</td>\n",
       "      <td>10000.000000</td>\n",
       "      <td>9091.000000</td>\n",
       "      <td>10000.000000</td>\n",
       "      <td>10000.000000</td>\n",
       "      <td>10000.00000</td>\n",
       "      <td>10000.000000</td>\n",
       "      <td>10000.000000</td>\n",
       "      <td>10000.000000</td>\n",
       "    </tr>\n",
       "    <tr>\n",
       "      <th>mean</th>\n",
       "      <td>5000.50000</td>\n",
       "      <td>1.569094e+07</td>\n",
       "      <td>650.528800</td>\n",
       "      <td>38.921800</td>\n",
       "      <td>4.997690</td>\n",
       "      <td>76485.889288</td>\n",
       "      <td>1.530200</td>\n",
       "      <td>0.70550</td>\n",
       "      <td>0.515100</td>\n",
       "      <td>100090.239881</td>\n",
       "      <td>0.203700</td>\n",
       "    </tr>\n",
       "    <tr>\n",
       "      <th>std</th>\n",
       "      <td>2886.89568</td>\n",
       "      <td>7.193619e+04</td>\n",
       "      <td>96.653299</td>\n",
       "      <td>10.487806</td>\n",
       "      <td>2.894723</td>\n",
       "      <td>62397.405202</td>\n",
       "      <td>0.581654</td>\n",
       "      <td>0.45584</td>\n",
       "      <td>0.499797</td>\n",
       "      <td>57510.492818</td>\n",
       "      <td>0.402769</td>\n",
       "    </tr>\n",
       "    <tr>\n",
       "      <th>min</th>\n",
       "      <td>1.00000</td>\n",
       "      <td>1.556570e+07</td>\n",
       "      <td>350.000000</td>\n",
       "      <td>18.000000</td>\n",
       "      <td>0.000000</td>\n",
       "      <td>0.000000</td>\n",
       "      <td>1.000000</td>\n",
       "      <td>0.00000</td>\n",
       "      <td>0.000000</td>\n",
       "      <td>11.580000</td>\n",
       "      <td>0.000000</td>\n",
       "    </tr>\n",
       "    <tr>\n",
       "      <th>25%</th>\n",
       "      <td>2500.75000</td>\n",
       "      <td>1.562853e+07</td>\n",
       "      <td>584.000000</td>\n",
       "      <td>32.000000</td>\n",
       "      <td>2.000000</td>\n",
       "      <td>0.000000</td>\n",
       "      <td>1.000000</td>\n",
       "      <td>0.00000</td>\n",
       "      <td>0.000000</td>\n",
       "      <td>51002.110000</td>\n",
       "      <td>0.000000</td>\n",
       "    </tr>\n",
       "    <tr>\n",
       "      <th>50%</th>\n",
       "      <td>5000.50000</td>\n",
       "      <td>1.569074e+07</td>\n",
       "      <td>652.000000</td>\n",
       "      <td>37.000000</td>\n",
       "      <td>5.000000</td>\n",
       "      <td>97198.540000</td>\n",
       "      <td>1.000000</td>\n",
       "      <td>1.00000</td>\n",
       "      <td>1.000000</td>\n",
       "      <td>100193.915000</td>\n",
       "      <td>0.000000</td>\n",
       "    </tr>\n",
       "    <tr>\n",
       "      <th>75%</th>\n",
       "      <td>7500.25000</td>\n",
       "      <td>1.575323e+07</td>\n",
       "      <td>718.000000</td>\n",
       "      <td>44.000000</td>\n",
       "      <td>7.000000</td>\n",
       "      <td>127644.240000</td>\n",
       "      <td>2.000000</td>\n",
       "      <td>1.00000</td>\n",
       "      <td>1.000000</td>\n",
       "      <td>149388.247500</td>\n",
       "      <td>0.000000</td>\n",
       "    </tr>\n",
       "    <tr>\n",
       "      <th>max</th>\n",
       "      <td>10000.00000</td>\n",
       "      <td>1.581569e+07</td>\n",
       "      <td>850.000000</td>\n",
       "      <td>92.000000</td>\n",
       "      <td>10.000000</td>\n",
       "      <td>250898.090000</td>\n",
       "      <td>4.000000</td>\n",
       "      <td>1.00000</td>\n",
       "      <td>1.000000</td>\n",
       "      <td>199992.480000</td>\n",
       "      <td>1.000000</td>\n",
       "    </tr>\n",
       "  </tbody>\n",
       "</table>\n",
       "</div>"
      ],
      "text/plain": [
       "         RowNumber    CustomerId   CreditScore           Age       Tenure  \\\n",
       "count  10000.00000  1.000000e+04  10000.000000  10000.000000  9091.000000   \n",
       "mean    5000.50000  1.569094e+07    650.528800     38.921800     4.997690   \n",
       "std     2886.89568  7.193619e+04     96.653299     10.487806     2.894723   \n",
       "min        1.00000  1.556570e+07    350.000000     18.000000     0.000000   \n",
       "25%     2500.75000  1.562853e+07    584.000000     32.000000     2.000000   \n",
       "50%     5000.50000  1.569074e+07    652.000000     37.000000     5.000000   \n",
       "75%     7500.25000  1.575323e+07    718.000000     44.000000     7.000000   \n",
       "max    10000.00000  1.581569e+07    850.000000     92.000000    10.000000   \n",
       "\n",
       "             Balance  NumOfProducts    HasCrCard  IsActiveMember  \\\n",
       "count   10000.000000   10000.000000  10000.00000    10000.000000   \n",
       "mean    76485.889288       1.530200      0.70550        0.515100   \n",
       "std     62397.405202       0.581654      0.45584        0.499797   \n",
       "min         0.000000       1.000000      0.00000        0.000000   \n",
       "25%         0.000000       1.000000      0.00000        0.000000   \n",
       "50%     97198.540000       1.000000      1.00000        1.000000   \n",
       "75%    127644.240000       2.000000      1.00000        1.000000   \n",
       "max    250898.090000       4.000000      1.00000        1.000000   \n",
       "\n",
       "       EstimatedSalary        Exited  \n",
       "count     10000.000000  10000.000000  \n",
       "mean     100090.239881      0.203700  \n",
       "std       57510.492818      0.402769  \n",
       "min          11.580000      0.000000  \n",
       "25%       51002.110000      0.000000  \n",
       "50%      100193.915000      0.000000  \n",
       "75%      149388.247500      0.000000  \n",
       "max      199992.480000      1.000000  "
      ]
     },
     "execution_count": 17,
     "metadata": {},
     "output_type": "execute_result"
    }
   ],
   "source": [
    "# Descubriendo las estadisticas descriptivas de los valores numericos.\n",
    "data.describe()"
   ]
  },
  {
   "cell_type": "markdown",
   "metadata": {},
   "source": [
    "Las columnas no presentan datos anómalos o incoherentes. En el caso de la columna CustomerId que podría manejarse mejor como una columna con datos de tipo string, la mantendremos sin cambios, ya que para nuestro modelo no será incluida como una característica al no aportar información relevante para el modelo."
   ]
  },
  {
   "cell_type": "code",
   "execution_count": 18,
   "metadata": {
    "scrolled": false,
    "trusted": true
   },
   "outputs": [
    {
     "data": {
      "application/vnd.microsoft.datawrangler.viewer.v0+json": {
       "columns": [
        {
         "name": "index",
         "rawType": "object",
         "type": "string"
        },
        {
         "name": "Surname",
         "rawType": "object",
         "type": "unknown"
        },
        {
         "name": "Geography",
         "rawType": "object",
         "type": "unknown"
        },
        {
         "name": "Gender",
         "rawType": "object",
         "type": "unknown"
        }
       ],
       "ref": "39b74599-cb4e-4718-97d3-625381f0783b",
       "rows": [
        [
         "count",
         "10000",
         "10000",
         "10000"
        ],
        [
         "unique",
         "2932",
         "3",
         "2"
        ],
        [
         "top",
         "Smith",
         "France",
         "Male"
        ],
        [
         "freq",
         "32",
         "5014",
         "5457"
        ]
       ],
       "shape": {
        "columns": 3,
        "rows": 4
       }
      },
      "text/html": [
       "<div>\n",
       "<style scoped>\n",
       "    .dataframe tbody tr th:only-of-type {\n",
       "        vertical-align: middle;\n",
       "    }\n",
       "\n",
       "    .dataframe tbody tr th {\n",
       "        vertical-align: top;\n",
       "    }\n",
       "\n",
       "    .dataframe thead th {\n",
       "        text-align: right;\n",
       "    }\n",
       "</style>\n",
       "<table border=\"1\" class=\"dataframe\">\n",
       "  <thead>\n",
       "    <tr style=\"text-align: right;\">\n",
       "      <th></th>\n",
       "      <th>Surname</th>\n",
       "      <th>Geography</th>\n",
       "      <th>Gender</th>\n",
       "    </tr>\n",
       "  </thead>\n",
       "  <tbody>\n",
       "    <tr>\n",
       "      <th>count</th>\n",
       "      <td>10000</td>\n",
       "      <td>10000</td>\n",
       "      <td>10000</td>\n",
       "    </tr>\n",
       "    <tr>\n",
       "      <th>unique</th>\n",
       "      <td>2932</td>\n",
       "      <td>3</td>\n",
       "      <td>2</td>\n",
       "    </tr>\n",
       "    <tr>\n",
       "      <th>top</th>\n",
       "      <td>Smith</td>\n",
       "      <td>France</td>\n",
       "      <td>Male</td>\n",
       "    </tr>\n",
       "    <tr>\n",
       "      <th>freq</th>\n",
       "      <td>32</td>\n",
       "      <td>5014</td>\n",
       "      <td>5457</td>\n",
       "    </tr>\n",
       "  </tbody>\n",
       "</table>\n",
       "</div>"
      ],
      "text/plain": [
       "       Surname Geography Gender\n",
       "count    10000     10000  10000\n",
       "unique    2932         3      2\n",
       "top      Smith    France   Male\n",
       "freq        32      5014   5457"
      ]
     },
     "execution_count": 18,
     "metadata": {},
     "output_type": "execute_result"
    }
   ],
   "source": [
    "# Descubriendo las estadisticas descriptivas de los valores categoricos.\n",
    "data.describe(include='object')"
   ]
  },
  {
   "cell_type": "markdown",
   "metadata": {},
   "source": [
    "Para los datos categóricos observamos que la columna género se encuentra bien balanceada como característica."
   ]
  },
  {
   "cell_type": "markdown",
   "metadata": {},
   "source": [
    "En cuanto a la columna Tenure, exploraremos un poco más para conocer la razón de los valores ausentes y el tipo que lleva esta columna."
   ]
  },
  {
   "cell_type": "code",
   "execution_count": 19,
   "metadata": {
    "trusted": true
   },
   "outputs": [
    {
     "data": {
      "text/plain": [
       "array([ 2.,  1.,  8.,  7.,  4.,  6.,  3., 10.,  5.,  9.,  0., nan])"
      ]
     },
     "execution_count": 19,
     "metadata": {},
     "output_type": "execute_result"
    }
   ],
   "source": [
    "# Valores unicos de la columna.\n",
    "data['Tenure'].unique()"
   ]
  },
  {
   "cell_type": "markdown",
   "metadata": {},
   "source": [
    "Podemos concluir que existen valores enteros del 0 al 10, por lo que un cambio al tipo int puede ser una buena práctica para esta columna."
   ]
  },
  {
   "cell_type": "code",
   "execution_count": 20,
   "metadata": {
    "trusted": true
   },
   "outputs": [
    {
     "data": {
      "application/vnd.microsoft.datawrangler.viewer.v0+json": {
       "columns": [
        {
         "name": "index",
         "rawType": "int64",
         "type": "integer"
        },
        {
         "name": "RowNumber",
         "rawType": "int64",
         "type": "integer"
        },
        {
         "name": "CustomerId",
         "rawType": "int64",
         "type": "integer"
        },
        {
         "name": "Surname",
         "rawType": "object",
         "type": "string"
        },
        {
         "name": "CreditScore",
         "rawType": "int64",
         "type": "integer"
        },
        {
         "name": "Geography",
         "rawType": "object",
         "type": "string"
        },
        {
         "name": "Gender",
         "rawType": "object",
         "type": "string"
        },
        {
         "name": "Age",
         "rawType": "int64",
         "type": "integer"
        },
        {
         "name": "Tenure",
         "rawType": "float64",
         "type": "float"
        },
        {
         "name": "Balance",
         "rawType": "float64",
         "type": "float"
        },
        {
         "name": "NumOfProducts",
         "rawType": "int64",
         "type": "integer"
        },
        {
         "name": "HasCrCard",
         "rawType": "int64",
         "type": "integer"
        },
        {
         "name": "IsActiveMember",
         "rawType": "int64",
         "type": "integer"
        },
        {
         "name": "EstimatedSalary",
         "rawType": "float64",
         "type": "float"
        },
        {
         "name": "Exited",
         "rawType": "int64",
         "type": "integer"
        }
       ],
       "ref": "f8e20a36-38b1-44b4-81dd-d074ca0c384a",
       "rows": [
        [
         "30",
         "31",
         "15589475",
         "Azikiwe",
         "591",
         "Spain",
         "Female",
         "39",
         null,
         "0.0",
         "3",
         "1",
         "0",
         "140469.38",
         "1"
        ],
        [
         "48",
         "49",
         "15766205",
         "Yin",
         "550",
         "Germany",
         "Male",
         "38",
         null,
         "103391.38",
         "1",
         "0",
         "1",
         "90878.13",
         "0"
        ],
        [
         "51",
         "52",
         "15768193",
         "Trevisani",
         "585",
         "Germany",
         "Male",
         "36",
         null,
         "146050.97",
         "2",
         "0",
         "0",
         "86424.57",
         "0"
        ],
        [
         "53",
         "54",
         "15702298",
         "Parkhill",
         "655",
         "Germany",
         "Male",
         "41",
         null,
         "125561.97",
         "1",
         "0",
         "0",
         "164040.94",
         "1"
        ],
        [
         "60",
         "61",
         "15651280",
         "Hunter",
         "742",
         "Germany",
         "Male",
         "35",
         null,
         "136857.0",
         "1",
         "0",
         "0",
         "84509.57",
         "0"
        ],
        [
         "82",
         "83",
         "15641732",
         "Mills",
         "543",
         "France",
         "Female",
         "36",
         null,
         "0.0",
         "2",
         "0",
         "0",
         "26019.59",
         "0"
        ],
        [
         "85",
         "86",
         "15805254",
         "Ndukaku",
         "652",
         "Spain",
         "Female",
         "75",
         null,
         "0.0",
         "2",
         "1",
         "1",
         "114675.75",
         "0"
        ],
        [
         "94",
         "95",
         "15676966",
         "Capon",
         "730",
         "Spain",
         "Male",
         "42",
         null,
         "0.0",
         "2",
         "0",
         "1",
         "85982.47",
         "0"
        ],
        [
         "99",
         "100",
         "15633059",
         "Fanucci",
         "413",
         "France",
         "Male",
         "34",
         null,
         "0.0",
         "2",
         "0",
         "0",
         "6534.18",
         "0"
        ],
        [
         "111",
         "112",
         "15665790",
         "Rowntree",
         "538",
         "Germany",
         "Male",
         "39",
         null,
         "108055.1",
         "2",
         "1",
         "0",
         "27231.26",
         "0"
        ],
        [
         "123",
         "124",
         "15760085",
         "Calabresi",
         "684",
         "Germany",
         "Female",
         "48",
         null,
         "126384.42",
         "1",
         "1",
         "1",
         "198129.36",
         "0"
        ],
        [
         "125",
         "126",
         "15627360",
         "Fuller",
         "432",
         "France",
         "Male",
         "42",
         null,
         "152603.45",
         "1",
         "1",
         "0",
         "110265.24",
         "1"
        ],
        [
         "146",
         "147",
         "15705707",
         "Bennelong",
         "635",
         "Spain",
         "Female",
         "29",
         null,
         "138296.94",
         "2",
         "1",
         "0",
         "141075.51",
         "0"
        ],
        [
         "162",
         "163",
         "15630910",
         "Treacy",
         "800",
         "France",
         "Female",
         "49",
         null,
         "108007.36",
         "1",
         "0",
         "0",
         "47125.11",
         "0"
        ],
        [
         "173",
         "174",
         "15586310",
         "Ting",
         "578",
         "France",
         "Male",
         "30",
         null,
         "169462.09",
         "1",
         "1",
         "0",
         "112187.11",
         "0"
        ],
        [
         "180",
         "181",
         "15716334",
         "Rozier",
         "850",
         "Spain",
         "Female",
         "45",
         null,
         "122311.21",
         "1",
         "1",
         "1",
         "19482.5",
         "0"
        ],
        [
         "217",
         "218",
         "15786308",
         "Millar",
         "730",
         "Spain",
         "Female",
         "33",
         null,
         "0.0",
         "2",
         "0",
         "0",
         "176576.62",
         "0"
        ],
        [
         "222",
         "223",
         "15727829",
         "McIntyre",
         "567",
         "France",
         "Male",
         "42",
         null,
         "0.0",
         "2",
         "1",
         "1",
         "167984.61",
         "0"
        ],
        [
         "225",
         "226",
         "15699029",
         "Bagley",
         "670",
         "France",
         "Male",
         "37",
         null,
         "170557.91",
         "2",
         "1",
         "0",
         "198252.88",
         "0"
        ],
        [
         "237",
         "238",
         "15764866",
         "Synnot",
         "539",
         "Germany",
         "Female",
         "43",
         null,
         "116220.5",
         "3",
         "1",
         "0",
         "55803.96",
         "1"
        ],
        [
         "254",
         "255",
         "15665834",
         "Cheatham",
         "696",
         "Spain",
         "Male",
         "28",
         null,
         "0.0",
         "1",
         "0",
         "0",
         "176713.47",
         "0"
        ],
        [
         "258",
         "259",
         "15750803",
         "Jess",
         "693",
         "France",
         "Female",
         "30",
         null,
         "127992.25",
         "1",
         "1",
         "1",
         "50457.2",
         "0"
        ],
        [
         "264",
         "265",
         "15700696",
         "Kang",
         "738",
         "Spain",
         "Male",
         "31",
         null,
         "79019.8",
         "1",
         "1",
         "1",
         "18606.23",
         "0"
        ],
        [
         "270",
         "271",
         "15787071",
         "Dulhunty",
         "650",
         "Spain",
         "Male",
         "41",
         null,
         "0.0",
         "2",
         "0",
         "1",
         "191599.67",
         "0"
        ],
        [
         "275",
         "276",
         "15758685",
         "Dubinina",
         "706",
         "Spain",
         "Female",
         "37",
         null,
         "0.0",
         "2",
         "1",
         "1",
         "110899.3",
         "0"
        ],
        [
         "286",
         "287",
         "15573112",
         "Kang",
         "602",
         "Spain",
         "Male",
         "29",
         null,
         "103907.28",
         "1",
         "1",
         "0",
         "161229.84",
         "0"
        ],
        [
         "290",
         "291",
         "15652266",
         "Chidiebele",
         "703",
         "Germany",
         "Male",
         "42",
         null,
         "63227.0",
         "1",
         "0",
         "1",
         "137316.32",
         "0"
        ],
        [
         "320",
         "321",
         "15810834",
         "Gordon",
         "525",
         "Spain",
         "Female",
         "57",
         null,
         "145965.33",
         "1",
         "1",
         "1",
         "64448.36",
         "0"
        ],
        [
         "323",
         "324",
         "15585215",
         "Yuan",
         "763",
         "France",
         "Female",
         "31",
         null,
         "0.0",
         "2",
         "0",
         "0",
         "50404.72",
         "0"
        ],
        [
         "329",
         "330",
         "15624528",
         "L?",
         "664",
         "Germany",
         "Male",
         "26",
         null,
         "116244.14",
         "2",
         "1",
         "1",
         "95145.14",
         "0"
        ],
        [
         "341",
         "342",
         "15786170",
         "Tien",
         "659",
         "France",
         "Male",
         "31",
         null,
         "118342.26",
         "1",
         "0",
         "0",
         "161574.19",
         "0"
        ],
        [
         "347",
         "348",
         "15747358",
         "Russell",
         "643",
         "Germany",
         "Male",
         "59",
         null,
         "170331.37",
         "1",
         "1",
         "1",
         "32171.79",
         "0"
        ],
        [
         "351",
         "352",
         "15593365",
         "Shih",
         "762",
         "Spain",
         "Male",
         "39",
         null,
         "81273.13",
         "1",
         "1",
         "1",
         "18719.67",
         "0"
        ],
        [
         "353",
         "354",
         "15812007",
         "Power",
         "670",
         "Spain",
         "Male",
         "25",
         null,
         "0.0",
         "2",
         "1",
         "1",
         "78358.94",
         "0"
        ],
        [
         "355",
         "356",
         "15739438",
         "Reed",
         "539",
         "France",
         "Male",
         "30",
         null,
         "0.0",
         "2",
         "1",
         "0",
         "160979.66",
         "0"
        ],
        [
         "357",
         "358",
         "15661629",
         "Ricci",
         "522",
         "Spain",
         "Male",
         "34",
         null,
         "126436.29",
         "1",
         "1",
         "0",
         "174248.52",
         "1"
        ],
        [
         "370",
         "371",
         "15611579",
         "Sutherland",
         "801",
         "Spain",
         "Male",
         "42",
         null,
         "141947.67",
         "1",
         "1",
         "1",
         "10598.29",
         "0"
        ],
        [
         "386",
         "387",
         "15721181",
         "Oliver",
         "611",
         "Spain",
         "Male",
         "46",
         null,
         "0.0",
         "2",
         "1",
         "0",
         "45886.33",
         "0"
        ],
        [
         "390",
         "391",
         "15685226",
         "Morrison",
         "712",
         "Germany",
         "Female",
         "29",
         null,
         "147199.07",
         "1",
         "1",
         "1",
         "84932.4",
         "0"
        ],
        [
         "412",
         "413",
         "15686302",
         "Fisk",
         "745",
         "Spain",
         "Female",
         "31",
         null,
         "124328.84",
         "1",
         "1",
         "1",
         "140451.52",
         "0"
        ],
        [
         "413",
         "414",
         "15801559",
         "Chiang",
         "693",
         "Germany",
         "Female",
         "41",
         null,
         "181461.48",
         "3",
         "1",
         "1",
         "187929.43",
         "1"
        ],
        [
         "414",
         "415",
         "15810432",
         "Moseley",
         "795",
         "Spain",
         "Male",
         "35",
         null,
         "0.0",
         "2",
         "1",
         "0",
         "167155.36",
         "0"
        ],
        [
         "424",
         "425",
         "15566111",
         "Estes",
         "596",
         "France",
         "Male",
         "39",
         null,
         "0.0",
         "1",
         "1",
         "0",
         "48963.59",
         "0"
        ],
        [
         "438",
         "439",
         "15783501",
         "Findlay",
         "800",
         "France",
         "Female",
         "38",
         null,
         "168190.33",
         "2",
         "1",
         "0",
         "68052.08",
         "0"
        ],
        [
         "442",
         "443",
         "15672145",
         "Swift",
         "534",
         "France",
         "Female",
         "34",
         null,
         "121551.58",
         "2",
         "1",
         "1",
         "70179.0",
         "0"
        ],
        [
         "460",
         "461",
         "15732778",
         "Templeman",
         "468",
         "Germany",
         "Male",
         "29",
         null,
         "111681.98",
         "2",
         "1",
         "1",
         "195711.16",
         "0"
        ],
        [
         "461",
         "462",
         "15718443",
         "Chibuzo",
         "539",
         "France",
         "Male",
         "39",
         null,
         "0.0",
         "2",
         "1",
         "0",
         "36692.17",
         "0"
        ],
        [
         "463",
         "464",
         "15773792",
         "Evans",
         "662",
         "France",
         "Female",
         "32",
         null,
         "133950.37",
         "1",
         "1",
         "1",
         "48725.68",
         "1"
        ],
        [
         "473",
         "474",
         "15681705",
         "Fanucci",
         "785",
         "France",
         "Male",
         "28",
         null,
         "0.0",
         "2",
         "1",
         "0",
         "77231.27",
         "0"
        ],
        [
         "482",
         "483",
         "15750658",
         "Obiuto",
         "798",
         "France",
         "Male",
         "37",
         null,
         "0.0",
         "3",
         "0",
         "0",
         "110783.28",
         "0"
        ]
       ],
       "shape": {
        "columns": 14,
        "rows": 909
       }
      },
      "text/html": [
       "<div>\n",
       "<style scoped>\n",
       "    .dataframe tbody tr th:only-of-type {\n",
       "        vertical-align: middle;\n",
       "    }\n",
       "\n",
       "    .dataframe tbody tr th {\n",
       "        vertical-align: top;\n",
       "    }\n",
       "\n",
       "    .dataframe thead th {\n",
       "        text-align: right;\n",
       "    }\n",
       "</style>\n",
       "<table border=\"1\" class=\"dataframe\">\n",
       "  <thead>\n",
       "    <tr style=\"text-align: right;\">\n",
       "      <th></th>\n",
       "      <th>RowNumber</th>\n",
       "      <th>CustomerId</th>\n",
       "      <th>Surname</th>\n",
       "      <th>CreditScore</th>\n",
       "      <th>Geography</th>\n",
       "      <th>Gender</th>\n",
       "      <th>Age</th>\n",
       "      <th>Tenure</th>\n",
       "      <th>Balance</th>\n",
       "      <th>NumOfProducts</th>\n",
       "      <th>HasCrCard</th>\n",
       "      <th>IsActiveMember</th>\n",
       "      <th>EstimatedSalary</th>\n",
       "      <th>Exited</th>\n",
       "    </tr>\n",
       "  </thead>\n",
       "  <tbody>\n",
       "    <tr>\n",
       "      <th>30</th>\n",
       "      <td>31</td>\n",
       "      <td>15589475</td>\n",
       "      <td>Azikiwe</td>\n",
       "      <td>591</td>\n",
       "      <td>Spain</td>\n",
       "      <td>Female</td>\n",
       "      <td>39</td>\n",
       "      <td>NaN</td>\n",
       "      <td>0.00</td>\n",
       "      <td>3</td>\n",
       "      <td>1</td>\n",
       "      <td>0</td>\n",
       "      <td>140469.38</td>\n",
       "      <td>1</td>\n",
       "    </tr>\n",
       "    <tr>\n",
       "      <th>48</th>\n",
       "      <td>49</td>\n",
       "      <td>15766205</td>\n",
       "      <td>Yin</td>\n",
       "      <td>550</td>\n",
       "      <td>Germany</td>\n",
       "      <td>Male</td>\n",
       "      <td>38</td>\n",
       "      <td>NaN</td>\n",
       "      <td>103391.38</td>\n",
       "      <td>1</td>\n",
       "      <td>0</td>\n",
       "      <td>1</td>\n",
       "      <td>90878.13</td>\n",
       "      <td>0</td>\n",
       "    </tr>\n",
       "    <tr>\n",
       "      <th>51</th>\n",
       "      <td>52</td>\n",
       "      <td>15768193</td>\n",
       "      <td>Trevisani</td>\n",
       "      <td>585</td>\n",
       "      <td>Germany</td>\n",
       "      <td>Male</td>\n",
       "      <td>36</td>\n",
       "      <td>NaN</td>\n",
       "      <td>146050.97</td>\n",
       "      <td>2</td>\n",
       "      <td>0</td>\n",
       "      <td>0</td>\n",
       "      <td>86424.57</td>\n",
       "      <td>0</td>\n",
       "    </tr>\n",
       "    <tr>\n",
       "      <th>53</th>\n",
       "      <td>54</td>\n",
       "      <td>15702298</td>\n",
       "      <td>Parkhill</td>\n",
       "      <td>655</td>\n",
       "      <td>Germany</td>\n",
       "      <td>Male</td>\n",
       "      <td>41</td>\n",
       "      <td>NaN</td>\n",
       "      <td>125561.97</td>\n",
       "      <td>1</td>\n",
       "      <td>0</td>\n",
       "      <td>0</td>\n",
       "      <td>164040.94</td>\n",
       "      <td>1</td>\n",
       "    </tr>\n",
       "    <tr>\n",
       "      <th>60</th>\n",
       "      <td>61</td>\n",
       "      <td>15651280</td>\n",
       "      <td>Hunter</td>\n",
       "      <td>742</td>\n",
       "      <td>Germany</td>\n",
       "      <td>Male</td>\n",
       "      <td>35</td>\n",
       "      <td>NaN</td>\n",
       "      <td>136857.00</td>\n",
       "      <td>1</td>\n",
       "      <td>0</td>\n",
       "      <td>0</td>\n",
       "      <td>84509.57</td>\n",
       "      <td>0</td>\n",
       "    </tr>\n",
       "    <tr>\n",
       "      <th>...</th>\n",
       "      <td>...</td>\n",
       "      <td>...</td>\n",
       "      <td>...</td>\n",
       "      <td>...</td>\n",
       "      <td>...</td>\n",
       "      <td>...</td>\n",
       "      <td>...</td>\n",
       "      <td>...</td>\n",
       "      <td>...</td>\n",
       "      <td>...</td>\n",
       "      <td>...</td>\n",
       "      <td>...</td>\n",
       "      <td>...</td>\n",
       "      <td>...</td>\n",
       "    </tr>\n",
       "    <tr>\n",
       "      <th>9944</th>\n",
       "      <td>9945</td>\n",
       "      <td>15703923</td>\n",
       "      <td>Cameron</td>\n",
       "      <td>744</td>\n",
       "      <td>Germany</td>\n",
       "      <td>Male</td>\n",
       "      <td>41</td>\n",
       "      <td>NaN</td>\n",
       "      <td>190409.34</td>\n",
       "      <td>2</td>\n",
       "      <td>1</td>\n",
       "      <td>1</td>\n",
       "      <td>138361.48</td>\n",
       "      <td>0</td>\n",
       "    </tr>\n",
       "    <tr>\n",
       "      <th>9956</th>\n",
       "      <td>9957</td>\n",
       "      <td>15707861</td>\n",
       "      <td>Nucci</td>\n",
       "      <td>520</td>\n",
       "      <td>France</td>\n",
       "      <td>Female</td>\n",
       "      <td>46</td>\n",
       "      <td>NaN</td>\n",
       "      <td>85216.61</td>\n",
       "      <td>1</td>\n",
       "      <td>1</td>\n",
       "      <td>0</td>\n",
       "      <td>117369.52</td>\n",
       "      <td>1</td>\n",
       "    </tr>\n",
       "    <tr>\n",
       "      <th>9964</th>\n",
       "      <td>9965</td>\n",
       "      <td>15642785</td>\n",
       "      <td>Douglas</td>\n",
       "      <td>479</td>\n",
       "      <td>France</td>\n",
       "      <td>Male</td>\n",
       "      <td>34</td>\n",
       "      <td>NaN</td>\n",
       "      <td>117593.48</td>\n",
       "      <td>2</td>\n",
       "      <td>0</td>\n",
       "      <td>0</td>\n",
       "      <td>113308.29</td>\n",
       "      <td>0</td>\n",
       "    </tr>\n",
       "    <tr>\n",
       "      <th>9985</th>\n",
       "      <td>9986</td>\n",
       "      <td>15586914</td>\n",
       "      <td>Nepean</td>\n",
       "      <td>659</td>\n",
       "      <td>France</td>\n",
       "      <td>Male</td>\n",
       "      <td>36</td>\n",
       "      <td>NaN</td>\n",
       "      <td>123841.49</td>\n",
       "      <td>2</td>\n",
       "      <td>1</td>\n",
       "      <td>0</td>\n",
       "      <td>96833.00</td>\n",
       "      <td>0</td>\n",
       "    </tr>\n",
       "    <tr>\n",
       "      <th>9999</th>\n",
       "      <td>10000</td>\n",
       "      <td>15628319</td>\n",
       "      <td>Walker</td>\n",
       "      <td>792</td>\n",
       "      <td>France</td>\n",
       "      <td>Female</td>\n",
       "      <td>28</td>\n",
       "      <td>NaN</td>\n",
       "      <td>130142.79</td>\n",
       "      <td>1</td>\n",
       "      <td>1</td>\n",
       "      <td>0</td>\n",
       "      <td>38190.78</td>\n",
       "      <td>0</td>\n",
       "    </tr>\n",
       "  </tbody>\n",
       "</table>\n",
       "<p>909 rows × 14 columns</p>\n",
       "</div>"
      ],
      "text/plain": [
       "      RowNumber  CustomerId    Surname  CreditScore Geography  Gender  Age  \\\n",
       "30           31    15589475    Azikiwe          591     Spain  Female   39   \n",
       "48           49    15766205        Yin          550   Germany    Male   38   \n",
       "51           52    15768193  Trevisani          585   Germany    Male   36   \n",
       "53           54    15702298   Parkhill          655   Germany    Male   41   \n",
       "60           61    15651280     Hunter          742   Germany    Male   35   \n",
       "...         ...         ...        ...          ...       ...     ...  ...   \n",
       "9944       9945    15703923    Cameron          744   Germany    Male   41   \n",
       "9956       9957    15707861      Nucci          520    France  Female   46   \n",
       "9964       9965    15642785    Douglas          479    France    Male   34   \n",
       "9985       9986    15586914     Nepean          659    France    Male   36   \n",
       "9999      10000    15628319     Walker          792    France  Female   28   \n",
       "\n",
       "      Tenure    Balance  NumOfProducts  HasCrCard  IsActiveMember  \\\n",
       "30       NaN       0.00              3          1               0   \n",
       "48       NaN  103391.38              1          0               1   \n",
       "51       NaN  146050.97              2          0               0   \n",
       "53       NaN  125561.97              1          0               0   \n",
       "60       NaN  136857.00              1          0               0   \n",
       "...      ...        ...            ...        ...             ...   \n",
       "9944     NaN  190409.34              2          1               1   \n",
       "9956     NaN   85216.61              1          1               0   \n",
       "9964     NaN  117593.48              2          0               0   \n",
       "9985     NaN  123841.49              2          1               0   \n",
       "9999     NaN  130142.79              1          1               0   \n",
       "\n",
       "      EstimatedSalary  Exited  \n",
       "30          140469.38       1  \n",
       "48           90878.13       0  \n",
       "51           86424.57       0  \n",
       "53          164040.94       1  \n",
       "60           84509.57       0  \n",
       "...               ...     ...  \n",
       "9944        138361.48       0  \n",
       "9956        117369.52       1  \n",
       "9964        113308.29       0  \n",
       "9985         96833.00       0  \n",
       "9999         38190.78       0  \n",
       "\n",
       "[909 rows x 14 columns]"
      ]
     },
     "execution_count": 20,
     "metadata": {},
     "output_type": "execute_result"
    }
   ],
   "source": [
    "# Exploración de las filas con valores ausentes.\n",
    "data[data['Tenure'].isna()]"
   ]
  },
  {
   "cell_type": "markdown",
   "metadata": {},
   "source": [
    "A primera vista no hay ningún patrón observable para los valores ausentes de esta columna, existe una probabilidad que estos valores ausentes correspondan a valores mayores a 10, los cuales se manejaron como una categoría, pero desde que no tenemos más información de estos datos, debemos tomar una decisión para poder entrenar nuestro modelo. Al no poder imputar estos datos como 0 o como un valor específico (media o mediana), ya que podría alterar los resultados reales de nuestro modelo, optamos por descartar estas filas para nuestro entrenamiento."
   ]
  },
  {
   "cell_type": "code",
   "execution_count": 21,
   "metadata": {
    "scrolled": true,
    "trusted": true
   },
   "outputs": [
    {
     "data": {
      "application/vnd.microsoft.datawrangler.viewer.v0+json": {
       "columns": [
        {
         "name": "index",
         "rawType": "object",
         "type": "string"
        },
        {
         "name": "0",
         "rawType": "int64",
         "type": "integer"
        }
       ],
       "ref": "013c75df-ff16-4a00-88ee-708995db9fa6",
       "rows": [
        [
         "RowNumber",
         "0"
        ],
        [
         "CustomerId",
         "0"
        ],
        [
         "Surname",
         "0"
        ],
        [
         "CreditScore",
         "0"
        ],
        [
         "Geography",
         "0"
        ],
        [
         "Gender",
         "0"
        ],
        [
         "Age",
         "0"
        ],
        [
         "Tenure",
         "0"
        ],
        [
         "Balance",
         "0"
        ],
        [
         "NumOfProducts",
         "0"
        ],
        [
         "HasCrCard",
         "0"
        ],
        [
         "IsActiveMember",
         "0"
        ],
        [
         "EstimatedSalary",
         "0"
        ],
        [
         "Exited",
         "0"
        ]
       ],
       "shape": {
        "columns": 1,
        "rows": 14
       }
      },
      "text/plain": [
       "RowNumber          0\n",
       "CustomerId         0\n",
       "Surname            0\n",
       "CreditScore        0\n",
       "Geography          0\n",
       "Gender             0\n",
       "Age                0\n",
       "Tenure             0\n",
       "Balance            0\n",
       "NumOfProducts      0\n",
       "HasCrCard          0\n",
       "IsActiveMember     0\n",
       "EstimatedSalary    0\n",
       "Exited             0\n",
       "dtype: int64"
      ]
     },
     "execution_count": 21,
     "metadata": {},
     "output_type": "execute_result"
    }
   ],
   "source": [
    "# Descartamos los valores ausentes.\n",
    "data.dropna(inplace=True)\n",
    "\n",
    "# Comprobamos si hay valores ausentes.\n",
    "data.isna().sum()"
   ]
  },
  {
   "cell_type": "markdown",
   "metadata": {},
   "source": [
    "Sin valores ausentes, ahora podemos transformar el tipo de dato a entero."
   ]
  },
  {
   "cell_type": "code",
   "execution_count": 22,
   "metadata": {
    "trusted": true
   },
   "outputs": [
    {
     "name": "stdout",
     "output_type": "stream",
     "text": [
      "<class 'pandas.core.frame.DataFrame'>\n",
      "Index: 9091 entries, 0 to 9998\n",
      "Data columns (total 14 columns):\n",
      " #   Column           Non-Null Count  Dtype  \n",
      "---  ------           --------------  -----  \n",
      " 0   RowNumber        9091 non-null   int64  \n",
      " 1   CustomerId       9091 non-null   int64  \n",
      " 2   Surname          9091 non-null   object \n",
      " 3   CreditScore      9091 non-null   int64  \n",
      " 4   Geography        9091 non-null   object \n",
      " 5   Gender           9091 non-null   object \n",
      " 6   Age              9091 non-null   int64  \n",
      " 7   Tenure           9091 non-null   int64  \n",
      " 8   Balance          9091 non-null   float64\n",
      " 9   NumOfProducts    9091 non-null   int64  \n",
      " 10  HasCrCard        9091 non-null   int64  \n",
      " 11  IsActiveMember   9091 non-null   int64  \n",
      " 12  EstimatedSalary  9091 non-null   float64\n",
      " 13  Exited           9091 non-null   int64  \n",
      "dtypes: float64(2), int64(9), object(3)\n",
      "memory usage: 1.0+ MB\n"
     ]
    }
   ],
   "source": [
    "# Convertir los datos a entero.\n",
    "data['Tenure'] = data['Tenure'].astype('int')\n",
    "data.info()"
   ]
  },
  {
   "cell_type": "code",
   "execution_count": 23,
   "metadata": {
    "trusted": true
   },
   "outputs": [
    {
     "data": {
      "text/plain": [
       "array([ 2,  1,  8,  7,  4,  6,  3, 10,  5,  9,  0])"
      ]
     },
     "execution_count": 23,
     "metadata": {},
     "output_type": "execute_result"
    }
   ],
   "source": [
    "# Valores unicos de la columna.\n",
    "data['Tenure'].unique()"
   ]
  },
  {
   "cell_type": "markdown",
   "metadata": {},
   "source": [
    "Ahora que la columna no tiene valores ausentes y es de tipo entero, tenemos listos los datos de nuestras características y objetivos para los entrenamientos de modelos."
   ]
  },
  {
   "cell_type": "markdown",
   "metadata": {},
   "source": [
    "## 2. Preparación para el modelo. <a id=\"data_prep\"></a>"
   ]
  },
  {
   "cell_type": "markdown",
   "metadata": {},
   "source": [
    "Para trabajar en este proyecto utilizaremos dos tipos de modelos para hacer nuestro estudio, y elegiremos aquel que muestre mejores métricas en los resultados. Los modelos que usaremos serán un bosque aleatorio de decisiones y una regresión logística."
   ]
  },
  {
   "cell_type": "markdown",
   "metadata": {},
   "source": [
    "### 2.1. Estudio del balance de clases. <a id=\"data_balance\"></a>"
   ]
  },
  {
   "cell_type": "markdown",
   "metadata": {},
   "source": [
    "Analicemos un momento al balance de nuestra clase objetivo."
   ]
  },
  {
   "cell_type": "code",
   "execution_count": 35,
   "metadata": {},
   "outputs": [
    {
     "data": {
      "image/png": "[encoded data removed]",
      "text/plain": [
       "<Figure size 800x500 with 1 Axes>"
      ]
     },
     "metadata": {},
     "output_type": "display_data"
    }
   ],
   "source": [
    "# Visualización de la distribución de clientes por estado (Permanece/Abandono).\n",
    "counts = data['Exited'].value_counts().sort_index().values \n",
    "labels = ['Permanece', 'Abandona']\n",
    "\n",
    "# Figura y estilo\n",
    "plt.figure(figsize=(8, 5))\n",
    "pastel_colors = ['#A8D5BA', '#F7A9A8'] \n",
    "bars = plt.bar(labels, counts, color=pastel_colors, width=0.6, edgecolor='gray', linewidth=1)\n",
    "\n",
    "# Títulos y etiquetas\n",
    "plt.title('Distribución de clientes por estado', fontsize=14, fontweight='bold', pad=20)\n",
    "plt.ylabel('Número de clientes', fontsize=12)\n",
    "plt.xlabel('Estado del cliente', fontsize=12)\n",
    "plt.xticks(fontsize=11)\n",
    "plt.yticks(fontsize=11)\n",
    "plt.grid(axis='y', linestyle='--', alpha=0.5)\n",
    "\n",
    "# Etiquetas sobre las barras\n",
    "for bar in bars:\n",
    "    height = bar.get_height()\n",
    "    plt.text(bar.get_x() + bar.get_width()/2, height, \n",
    "             f'{height:,}', ha='center', va='bottom', fontsize=11, fontweight='bold')\n",
    "\n",
    "# Remover bordes\n",
    "ax = plt.gca()\n",
    "ax.spines['top'].set_visible(False)\n",
    "ax.spines['right'].set_visible(False)\n",
    "\n",
    "plt.tight_layout()\n",
    "plt.show()\n"
   ]
  },
  {
   "cell_type": "markdown",
   "metadata": {},
   "source": [
    "Es evidente un desbalance en la clase objetivo ya que por cada cliente que abandona hay 3,9 clientes que permanecen. Para iniciar exploraremos algunos modelos sin prestar atención a este desbalance y posteriormente lo corregiremos y reevaluaremos nuestros modelos."
   ]
  },
  {
   "cell_type": "markdown",
   "metadata": {},
   "source": [
    "### 2.2. Selección de caracteristicas y objetivo. <a id=\"char_select\"></a>"
   ]
  },
  {
   "cell_type": "markdown",
   "metadata": {},
   "source": [
    "En este caso seleccionaremos solo las características relevantes para nuestro modelo. De todas las características descartaremos únicamente 3, de las cuales no aportar información útil para identificar si un usuario se va o se queda. Estas son RowNumber, CustomerId y Surname. Tampoco tendremos en cuenta la columna Exited, ya que esta es nuestra columna objetivo."
   ]
  },
  {
   "cell_type": "code",
   "execution_count": 12,
   "metadata": {
    "trusted": true
   },
   "outputs": [
    {
     "data": {
      "text/html": [
       "<div>\n",
       "<style scoped>\n",
       "    .dataframe tbody tr th:only-of-type {\n",
       "        vertical-align: middle;\n",
       "    }\n",
       "\n",
       "    .dataframe tbody tr th {\n",
       "        vertical-align: top;\n",
       "    }\n",
       "\n",
       "    .dataframe thead th {\n",
       "        text-align: right;\n",
       "    }\n",
       "</style>\n",
       "<table border=\"1\" class=\"dataframe\">\n",
       "  <thead>\n",
       "    <tr style=\"text-align: right;\">\n",
       "      <th></th>\n",
       "      <th>CreditScore</th>\n",
       "      <th>Geography</th>\n",
       "      <th>Gender</th>\n",
       "      <th>Age</th>\n",
       "      <th>Tenure</th>\n",
       "      <th>Balance</th>\n",
       "      <th>NumOfProducts</th>\n",
       "      <th>HasCrCard</th>\n",
       "      <th>IsActiveMember</th>\n",
       "      <th>EstimatedSalary</th>\n",
       "    </tr>\n",
       "  </thead>\n",
       "  <tbody>\n",
       "    <tr>\n",
       "      <th>0</th>\n",
       "      <td>619</td>\n",
       "      <td>France</td>\n",
       "      <td>Female</td>\n",
       "      <td>42</td>\n",
       "      <td>2</td>\n",
       "      <td>0.00</td>\n",
       "      <td>1</td>\n",
       "      <td>1</td>\n",
       "      <td>1</td>\n",
       "      <td>101348.88</td>\n",
       "    </tr>\n",
       "    <tr>\n",
       "      <th>1</th>\n",
       "      <td>608</td>\n",
       "      <td>Spain</td>\n",
       "      <td>Female</td>\n",
       "      <td>41</td>\n",
       "      <td>1</td>\n",
       "      <td>83807.86</td>\n",
       "      <td>1</td>\n",
       "      <td>0</td>\n",
       "      <td>1</td>\n",
       "      <td>112542.58</td>\n",
       "    </tr>\n",
       "    <tr>\n",
       "      <th>2</th>\n",
       "      <td>502</td>\n",
       "      <td>France</td>\n",
       "      <td>Female</td>\n",
       "      <td>42</td>\n",
       "      <td>8</td>\n",
       "      <td>159660.80</td>\n",
       "      <td>3</td>\n",
       "      <td>1</td>\n",
       "      <td>0</td>\n",
       "      <td>113931.57</td>\n",
       "    </tr>\n",
       "    <tr>\n",
       "      <th>3</th>\n",
       "      <td>699</td>\n",
       "      <td>France</td>\n",
       "      <td>Female</td>\n",
       "      <td>39</td>\n",
       "      <td>1</td>\n",
       "      <td>0.00</td>\n",
       "      <td>2</td>\n",
       "      <td>0</td>\n",
       "      <td>0</td>\n",
       "      <td>93826.63</td>\n",
       "    </tr>\n",
       "    <tr>\n",
       "      <th>4</th>\n",
       "      <td>850</td>\n",
       "      <td>Spain</td>\n",
       "      <td>Female</td>\n",
       "      <td>43</td>\n",
       "      <td>2</td>\n",
       "      <td>125510.82</td>\n",
       "      <td>1</td>\n",
       "      <td>1</td>\n",
       "      <td>1</td>\n",
       "      <td>79084.10</td>\n",
       "    </tr>\n",
       "    <tr>\n",
       "      <th>...</th>\n",
       "      <td>...</td>\n",
       "      <td>...</td>\n",
       "      <td>...</td>\n",
       "      <td>...</td>\n",
       "      <td>...</td>\n",
       "      <td>...</td>\n",
       "      <td>...</td>\n",
       "      <td>...</td>\n",
       "      <td>...</td>\n",
       "      <td>...</td>\n",
       "    </tr>\n",
       "    <tr>\n",
       "      <th>9994</th>\n",
       "      <td>800</td>\n",
       "      <td>France</td>\n",
       "      <td>Female</td>\n",
       "      <td>29</td>\n",
       "      <td>2</td>\n",
       "      <td>0.00</td>\n",
       "      <td>2</td>\n",
       "      <td>0</td>\n",
       "      <td>0</td>\n",
       "      <td>167773.55</td>\n",
       "    </tr>\n",
       "    <tr>\n",
       "      <th>9995</th>\n",
       "      <td>771</td>\n",
       "      <td>France</td>\n",
       "      <td>Male</td>\n",
       "      <td>39</td>\n",
       "      <td>5</td>\n",
       "      <td>0.00</td>\n",
       "      <td>2</td>\n",
       "      <td>1</td>\n",
       "      <td>0</td>\n",
       "      <td>96270.64</td>\n",
       "    </tr>\n",
       "    <tr>\n",
       "      <th>9996</th>\n",
       "      <td>516</td>\n",
       "      <td>France</td>\n",
       "      <td>Male</td>\n",
       "      <td>35</td>\n",
       "      <td>10</td>\n",
       "      <td>57369.61</td>\n",
       "      <td>1</td>\n",
       "      <td>1</td>\n",
       "      <td>1</td>\n",
       "      <td>101699.77</td>\n",
       "    </tr>\n",
       "    <tr>\n",
       "      <th>9997</th>\n",
       "      <td>709</td>\n",
       "      <td>France</td>\n",
       "      <td>Female</td>\n",
       "      <td>36</td>\n",
       "      <td>7</td>\n",
       "      <td>0.00</td>\n",
       "      <td>1</td>\n",
       "      <td>0</td>\n",
       "      <td>1</td>\n",
       "      <td>42085.58</td>\n",
       "    </tr>\n",
       "    <tr>\n",
       "      <th>9998</th>\n",
       "      <td>772</td>\n",
       "      <td>Germany</td>\n",
       "      <td>Male</td>\n",
       "      <td>42</td>\n",
       "      <td>3</td>\n",
       "      <td>75075.31</td>\n",
       "      <td>2</td>\n",
       "      <td>1</td>\n",
       "      <td>0</td>\n",
       "      <td>92888.52</td>\n",
       "    </tr>\n",
       "  </tbody>\n",
       "</table>\n",
       "<p>9091 rows × 10 columns</p>\n",
       "</div>"
      ],
      "text/plain": [
       "      CreditScore Geography  Gender  Age  Tenure    Balance  NumOfProducts  \\\n",
       "0             619    France  Female   42       2       0.00              1   \n",
       "1             608     Spain  Female   41       1   83807.86              1   \n",
       "2             502    France  Female   42       8  159660.80              3   \n",
       "3             699    France  Female   39       1       0.00              2   \n",
       "4             850     Spain  Female   43       2  125510.82              1   \n",
       "...           ...       ...     ...  ...     ...        ...            ...   \n",
       "9994          800    France  Female   29       2       0.00              2   \n",
       "9995          771    France    Male   39       5       0.00              2   \n",
       "9996          516    France    Male   35      10   57369.61              1   \n",
       "9997          709    France  Female   36       7       0.00              1   \n",
       "9998          772   Germany    Male   42       3   75075.31              2   \n",
       "\n",
       "      HasCrCard  IsActiveMember  EstimatedSalary  \n",
       "0             1               1        101348.88  \n",
       "1             0               1        112542.58  \n",
       "2             1               0        113931.57  \n",
       "3             0               0         93826.63  \n",
       "4             1               1         79084.10  \n",
       "...         ...             ...              ...  \n",
       "9994          0               0        167773.55  \n",
       "9995          1               0         96270.64  \n",
       "9996          1               1        101699.77  \n",
       "9997          0               1         42085.58  \n",
       "9998          1               0         92888.52  \n",
       "\n",
       "[9091 rows x 10 columns]"
      ]
     },
     "execution_count": 12,
     "metadata": {},
     "output_type": "execute_result"
    }
   ],
   "source": [
    "# Seleccionando las columnas de las caracteristicas.\n",
    "data_features = data.drop(['RowNumber', 'CustomerId', 'Surname', 'Exited'], axis = 1)\n",
    "data_features"
   ]
  },
  {
   "cell_type": "code",
   "execution_count": 13,
   "metadata": {
    "trusted": true
   },
   "outputs": [
    {
     "data": {
      "text/plain": [
       "0       1\n",
       "1       0\n",
       "2       1\n",
       "3       0\n",
       "4       0\n",
       "       ..\n",
       "9994    0\n",
       "9995    0\n",
       "9996    0\n",
       "9997    1\n",
       "9998    1\n",
       "Name: Exited, Length: 9091, dtype: int64"
      ]
     },
     "execution_count": 13,
     "metadata": {},
     "output_type": "execute_result"
    }
   ],
   "source": [
    "# Seleccionando la columna objetivo.\n",
    "data_target = data['Exited']\n",
    "data_target"
   ]
  },
  {
   "cell_type": "markdown",
   "metadata": {},
   "source": [
    "### 2.3. Escalado de características. <a id=\"data_scaling\"></a>"
   ]
  },
  {
   "cell_type": "markdown",
   "metadata": {},
   "source": [
    "Manejaremos los datos numéricos estandarizados, ya que muchos de ellos presentan magnitudes diferentes. Las columnas que estandarizaremos serán: CreditScore, Age, Tenure, Balance, NumOfProducts y EstimatedSalary."
   ]
  },
  {
   "cell_type": "code",
   "execution_count": 14,
   "metadata": {
    "trusted": true
   },
   "outputs": [
    {
     "data": {
      "text/html": [
       "<div>\n",
       "<style scoped>\n",
       "    .dataframe tbody tr th:only-of-type {\n",
       "        vertical-align: middle;\n",
       "    }\n",
       "\n",
       "    .dataframe tbody tr th {\n",
       "        vertical-align: top;\n",
       "    }\n",
       "\n",
       "    .dataframe thead th {\n",
       "        text-align: right;\n",
       "    }\n",
       "</style>\n",
       "<table border=\"1\" class=\"dataframe\">\n",
       "  <thead>\n",
       "    <tr style=\"text-align: right;\">\n",
       "      <th></th>\n",
       "      <th>CreditScore</th>\n",
       "      <th>Geography</th>\n",
       "      <th>Gender</th>\n",
       "      <th>Age</th>\n",
       "      <th>Tenure</th>\n",
       "      <th>Balance</th>\n",
       "      <th>NumOfProducts</th>\n",
       "      <th>HasCrCard</th>\n",
       "      <th>IsActiveMember</th>\n",
       "      <th>EstimatedSalary</th>\n",
       "    </tr>\n",
       "  </thead>\n",
       "  <tbody>\n",
       "    <tr>\n",
       "      <th>0</th>\n",
       "      <td>-0.329200</td>\n",
       "      <td>France</td>\n",
       "      <td>Female</td>\n",
       "      <td>0.289040</td>\n",
       "      <td>-1.035627</td>\n",
       "      <td>-1.227780</td>\n",
       "      <td>-0.912601</td>\n",
       "      <td>1</td>\n",
       "      <td>1</td>\n",
       "      <td>0.020264</td>\n",
       "    </tr>\n",
       "    <tr>\n",
       "      <th>1</th>\n",
       "      <td>-0.443301</td>\n",
       "      <td>Spain</td>\n",
       "      <td>Female</td>\n",
       "      <td>0.194298</td>\n",
       "      <td>-1.381103</td>\n",
       "      <td>0.116887</td>\n",
       "      <td>-0.912601</td>\n",
       "      <td>0</td>\n",
       "      <td>1</td>\n",
       "      <td>0.214527</td>\n",
       "    </tr>\n",
       "    <tr>\n",
       "      <th>2</th>\n",
       "      <td>-1.542828</td>\n",
       "      <td>France</td>\n",
       "      <td>Female</td>\n",
       "      <td>0.289040</td>\n",
       "      <td>1.037224</td>\n",
       "      <td>1.333920</td>\n",
       "      <td>2.529911</td>\n",
       "      <td>1</td>\n",
       "      <td>0</td>\n",
       "      <td>0.238632</td>\n",
       "    </tr>\n",
       "    <tr>\n",
       "      <th>3</th>\n",
       "      <td>0.500631</td>\n",
       "      <td>France</td>\n",
       "      <td>Female</td>\n",
       "      <td>0.004815</td>\n",
       "      <td>-1.381103</td>\n",
       "      <td>-1.227780</td>\n",
       "      <td>0.808655</td>\n",
       "      <td>0</td>\n",
       "      <td>0</td>\n",
       "      <td>-0.110281</td>\n",
       "    </tr>\n",
       "    <tr>\n",
       "      <th>4</th>\n",
       "      <td>2.066937</td>\n",
       "      <td>Spain</td>\n",
       "      <td>Female</td>\n",
       "      <td>0.383782</td>\n",
       "      <td>-1.035627</td>\n",
       "      <td>0.785996</td>\n",
       "      <td>-0.912601</td>\n",
       "      <td>1</td>\n",
       "      <td>1</td>\n",
       "      <td>-0.366132</td>\n",
       "    </tr>\n",
       "    <tr>\n",
       "      <th>...</th>\n",
       "      <td>...</td>\n",
       "      <td>...</td>\n",
       "      <td>...</td>\n",
       "      <td>...</td>\n",
       "      <td>...</td>\n",
       "      <td>...</td>\n",
       "      <td>...</td>\n",
       "      <td>...</td>\n",
       "      <td>...</td>\n",
       "      <td>...</td>\n",
       "    </tr>\n",
       "    <tr>\n",
       "      <th>9994</th>\n",
       "      <td>1.548293</td>\n",
       "      <td>France</td>\n",
       "      <td>Female</td>\n",
       "      <td>-0.942603</td>\n",
       "      <td>-1.035627</td>\n",
       "      <td>-1.227780</td>\n",
       "      <td>0.808655</td>\n",
       "      <td>0</td>\n",
       "      <td>0</td>\n",
       "      <td>1.173038</td>\n",
       "    </tr>\n",
       "    <tr>\n",
       "      <th>9995</th>\n",
       "      <td>1.247479</td>\n",
       "      <td>France</td>\n",
       "      <td>Male</td>\n",
       "      <td>0.004815</td>\n",
       "      <td>0.000798</td>\n",
       "      <td>-1.227780</td>\n",
       "      <td>0.808655</td>\n",
       "      <td>1</td>\n",
       "      <td>0</td>\n",
       "      <td>-0.067866</td>\n",
       "    </tr>\n",
       "    <tr>\n",
       "      <th>9996</th>\n",
       "      <td>-1.397607</td>\n",
       "      <td>France</td>\n",
       "      <td>Male</td>\n",
       "      <td>-0.374153</td>\n",
       "      <td>1.728174</td>\n",
       "      <td>-0.307305</td>\n",
       "      <td>-0.912601</td>\n",
       "      <td>1</td>\n",
       "      <td>1</td>\n",
       "      <td>0.026354</td>\n",
       "    </tr>\n",
       "    <tr>\n",
       "      <th>9997</th>\n",
       "      <td>0.604360</td>\n",
       "      <td>France</td>\n",
       "      <td>Female</td>\n",
       "      <td>-0.279411</td>\n",
       "      <td>0.691748</td>\n",
       "      <td>-1.227780</td>\n",
       "      <td>-0.912601</td>\n",
       "      <td>0</td>\n",
       "      <td>1</td>\n",
       "      <td>-1.008227</td>\n",
       "    </tr>\n",
       "    <tr>\n",
       "      <th>9998</th>\n",
       "      <td>1.257852</td>\n",
       "      <td>Germany</td>\n",
       "      <td>Male</td>\n",
       "      <td>0.289040</td>\n",
       "      <td>-0.690152</td>\n",
       "      <td>-0.023223</td>\n",
       "      <td>0.808655</td>\n",
       "      <td>1</td>\n",
       "      <td>0</td>\n",
       "      <td>-0.126562</td>\n",
       "    </tr>\n",
       "  </tbody>\n",
       "</table>\n",
       "<p>9091 rows × 10 columns</p>\n",
       "</div>"
      ],
      "text/plain": [
       "      CreditScore Geography  Gender       Age    Tenure   Balance  \\\n",
       "0       -0.329200    France  Female  0.289040 -1.035627 -1.227780   \n",
       "1       -0.443301     Spain  Female  0.194298 -1.381103  0.116887   \n",
       "2       -1.542828    France  Female  0.289040  1.037224  1.333920   \n",
       "3        0.500631    France  Female  0.004815 -1.381103 -1.227780   \n",
       "4        2.066937     Spain  Female  0.383782 -1.035627  0.785996   \n",
       "...           ...       ...     ...       ...       ...       ...   \n",
       "9994     1.548293    France  Female -0.942603 -1.035627 -1.227780   \n",
       "9995     1.247479    France    Male  0.004815  0.000798 -1.227780   \n",
       "9996    -1.397607    France    Male -0.374153  1.728174 -0.307305   \n",
       "9997     0.604360    France  Female -0.279411  0.691748 -1.227780   \n",
       "9998     1.257852   Germany    Male  0.289040 -0.690152 -0.023223   \n",
       "\n",
       "      NumOfProducts  HasCrCard  IsActiveMember  EstimatedSalary  \n",
       "0         -0.912601          1               1         0.020264  \n",
       "1         -0.912601          0               1         0.214527  \n",
       "2          2.529911          1               0         0.238632  \n",
       "3          0.808655          0               0        -0.110281  \n",
       "4         -0.912601          1               1        -0.366132  \n",
       "...             ...        ...             ...              ...  \n",
       "9994       0.808655          0               0         1.173038  \n",
       "9995       0.808655          1               0        -0.067866  \n",
       "9996      -0.912601          1               1         0.026354  \n",
       "9997      -0.912601          0               1        -1.008227  \n",
       "9998       0.808655          1               0        -0.126562  \n",
       "\n",
       "[9091 rows x 10 columns]"
      ]
     },
     "execution_count": 14,
     "metadata": {},
     "output_type": "execute_result"
    }
   ],
   "source": [
    "# Filtrando las columnas a estandarizar.\n",
    "numeric = ['CreditScore', 'Age', 'Tenure', 'Balance', 'NumOfProducts', 'EstimatedSalary']\n",
    "\n",
    "#Estandarización.\n",
    "scaler = StandardScaler()\n",
    "scaler.fit(data_features[numeric])\n",
    "\n",
    "data_features[numeric] = scaler.transform(data_features[numeric])\n",
    "data_features"
   ]
  },
  {
   "cell_type": "markdown",
   "metadata": {},
   "source": [
    "### 2.4. Codificación One-Hot. <a id=\"ohe\"></a>"
   ]
  },
  {
   "cell_type": "markdown",
   "metadata": {},
   "source": [
    "Para realizar el modelo de regresión logística requeriremos que algunas características se encuentren en codificación OHE para mejorar sus resultados. Generaremos esta codificación para las clases Geography y Gender."
   ]
  },
  {
   "cell_type": "code",
   "execution_count": 15,
   "metadata": {
    "trusted": true
   },
   "outputs": [
    {
     "data": {
      "text/html": [
       "<div>\n",
       "<style scoped>\n",
       "    .dataframe tbody tr th:only-of-type {\n",
       "        vertical-align: middle;\n",
       "    }\n",
       "\n",
       "    .dataframe tbody tr th {\n",
       "        vertical-align: top;\n",
       "    }\n",
       "\n",
       "    .dataframe thead th {\n",
       "        text-align: right;\n",
       "    }\n",
       "</style>\n",
       "<table border=\"1\" class=\"dataframe\">\n",
       "  <thead>\n",
       "    <tr style=\"text-align: right;\">\n",
       "      <th></th>\n",
       "      <th>Geography_France</th>\n",
       "      <th>Geography_Germany</th>\n",
       "      <th>Geography_Spain</th>\n",
       "      <th>Gender_Female</th>\n",
       "      <th>Gender_Male</th>\n",
       "    </tr>\n",
       "  </thead>\n",
       "  <tbody>\n",
       "    <tr>\n",
       "      <th>0</th>\n",
       "      <td>1</td>\n",
       "      <td>0</td>\n",
       "      <td>0</td>\n",
       "      <td>1</td>\n",
       "      <td>0</td>\n",
       "    </tr>\n",
       "    <tr>\n",
       "      <th>1</th>\n",
       "      <td>0</td>\n",
       "      <td>0</td>\n",
       "      <td>1</td>\n",
       "      <td>1</td>\n",
       "      <td>0</td>\n",
       "    </tr>\n",
       "    <tr>\n",
       "      <th>2</th>\n",
       "      <td>1</td>\n",
       "      <td>0</td>\n",
       "      <td>0</td>\n",
       "      <td>1</td>\n",
       "      <td>0</td>\n",
       "    </tr>\n",
       "    <tr>\n",
       "      <th>3</th>\n",
       "      <td>1</td>\n",
       "      <td>0</td>\n",
       "      <td>0</td>\n",
       "      <td>1</td>\n",
       "      <td>0</td>\n",
       "    </tr>\n",
       "    <tr>\n",
       "      <th>4</th>\n",
       "      <td>0</td>\n",
       "      <td>0</td>\n",
       "      <td>1</td>\n",
       "      <td>1</td>\n",
       "      <td>0</td>\n",
       "    </tr>\n",
       "    <tr>\n",
       "      <th>...</th>\n",
       "      <td>...</td>\n",
       "      <td>...</td>\n",
       "      <td>...</td>\n",
       "      <td>...</td>\n",
       "      <td>...</td>\n",
       "    </tr>\n",
       "    <tr>\n",
       "      <th>9994</th>\n",
       "      <td>1</td>\n",
       "      <td>0</td>\n",
       "      <td>0</td>\n",
       "      <td>1</td>\n",
       "      <td>0</td>\n",
       "    </tr>\n",
       "    <tr>\n",
       "      <th>9995</th>\n",
       "      <td>1</td>\n",
       "      <td>0</td>\n",
       "      <td>0</td>\n",
       "      <td>0</td>\n",
       "      <td>1</td>\n",
       "    </tr>\n",
       "    <tr>\n",
       "      <th>9996</th>\n",
       "      <td>1</td>\n",
       "      <td>0</td>\n",
       "      <td>0</td>\n",
       "      <td>0</td>\n",
       "      <td>1</td>\n",
       "    </tr>\n",
       "    <tr>\n",
       "      <th>9997</th>\n",
       "      <td>1</td>\n",
       "      <td>0</td>\n",
       "      <td>0</td>\n",
       "      <td>1</td>\n",
       "      <td>0</td>\n",
       "    </tr>\n",
       "    <tr>\n",
       "      <th>9998</th>\n",
       "      <td>0</td>\n",
       "      <td>1</td>\n",
       "      <td>0</td>\n",
       "      <td>0</td>\n",
       "      <td>1</td>\n",
       "    </tr>\n",
       "  </tbody>\n",
       "</table>\n",
       "<p>9091 rows × 5 columns</p>\n",
       "</div>"
      ],
      "text/plain": [
       "      Geography_France  Geography_Germany  Geography_Spain  Gender_Female  \\\n",
       "0                    1                  0                0              1   \n",
       "1                    0                  0                1              1   \n",
       "2                    1                  0                0              1   \n",
       "3                    1                  0                0              1   \n",
       "4                    0                  0                1              1   \n",
       "...                ...                ...              ...            ...   \n",
       "9994                 1                  0                0              1   \n",
       "9995                 1                  0                0              0   \n",
       "9996                 1                  0                0              0   \n",
       "9997                 1                  0                0              1   \n",
       "9998                 0                  1                0              0   \n",
       "\n",
       "      Gender_Male  \n",
       "0               0  \n",
       "1               0  \n",
       "2               0  \n",
       "3               0  \n",
       "4               0  \n",
       "...           ...  \n",
       "9994            0  \n",
       "9995            1  \n",
       "9996            1  \n",
       "9997            0  \n",
       "9998            1  \n",
       "\n",
       "[9091 rows x 5 columns]"
      ]
     },
     "execution_count": 15,
     "metadata": {},
     "output_type": "execute_result"
    }
   ],
   "source": [
    "# Contruyendo las columnas OHE\n",
    "ohe = pd.get_dummies(data_features[['Geography', 'Gender']])\n",
    "ohe"
   ]
  },
  {
   "cell_type": "code",
   "execution_count": 16,
   "metadata": {
    "trusted": true
   },
   "outputs": [
    {
     "data": {
      "text/html": [
       "<div>\n",
       "<style scoped>\n",
       "    .dataframe tbody tr th:only-of-type {\n",
       "        vertical-align: middle;\n",
       "    }\n",
       "\n",
       "    .dataframe tbody tr th {\n",
       "        vertical-align: top;\n",
       "    }\n",
       "\n",
       "    .dataframe thead th {\n",
       "        text-align: right;\n",
       "    }\n",
       "</style>\n",
       "<table border=\"1\" class=\"dataframe\">\n",
       "  <thead>\n",
       "    <tr style=\"text-align: right;\">\n",
       "      <th></th>\n",
       "      <th>CreditScore</th>\n",
       "      <th>Age</th>\n",
       "      <th>Tenure</th>\n",
       "      <th>Balance</th>\n",
       "      <th>NumOfProducts</th>\n",
       "      <th>HasCrCard</th>\n",
       "      <th>IsActiveMember</th>\n",
       "      <th>EstimatedSalary</th>\n",
       "      <th>Geography_France</th>\n",
       "      <th>Geography_Germany</th>\n",
       "      <th>Geography_Spain</th>\n",
       "      <th>Gender_Female</th>\n",
       "      <th>Gender_Male</th>\n",
       "    </tr>\n",
       "  </thead>\n",
       "  <tbody>\n",
       "    <tr>\n",
       "      <th>0</th>\n",
       "      <td>-0.329200</td>\n",
       "      <td>0.289040</td>\n",
       "      <td>-1.035627</td>\n",
       "      <td>-1.227780</td>\n",
       "      <td>-0.912601</td>\n",
       "      <td>1</td>\n",
       "      <td>1</td>\n",
       "      <td>0.020264</td>\n",
       "      <td>1</td>\n",
       "      <td>0</td>\n",
       "      <td>0</td>\n",
       "      <td>1</td>\n",
       "      <td>0</td>\n",
       "    </tr>\n",
       "    <tr>\n",
       "      <th>1</th>\n",
       "      <td>-0.443301</td>\n",
       "      <td>0.194298</td>\n",
       "      <td>-1.381103</td>\n",
       "      <td>0.116887</td>\n",
       "      <td>-0.912601</td>\n",
       "      <td>0</td>\n",
       "      <td>1</td>\n",
       "      <td>0.214527</td>\n",
       "      <td>0</td>\n",
       "      <td>0</td>\n",
       "      <td>1</td>\n",
       "      <td>1</td>\n",
       "      <td>0</td>\n",
       "    </tr>\n",
       "    <tr>\n",
       "      <th>2</th>\n",
       "      <td>-1.542828</td>\n",
       "      <td>0.289040</td>\n",
       "      <td>1.037224</td>\n",
       "      <td>1.333920</td>\n",
       "      <td>2.529911</td>\n",
       "      <td>1</td>\n",
       "      <td>0</td>\n",
       "      <td>0.238632</td>\n",
       "      <td>1</td>\n",
       "      <td>0</td>\n",
       "      <td>0</td>\n",
       "      <td>1</td>\n",
       "      <td>0</td>\n",
       "    </tr>\n",
       "    <tr>\n",
       "      <th>3</th>\n",
       "      <td>0.500631</td>\n",
       "      <td>0.004815</td>\n",
       "      <td>-1.381103</td>\n",
       "      <td>-1.227780</td>\n",
       "      <td>0.808655</td>\n",
       "      <td>0</td>\n",
       "      <td>0</td>\n",
       "      <td>-0.110281</td>\n",
       "      <td>1</td>\n",
       "      <td>0</td>\n",
       "      <td>0</td>\n",
       "      <td>1</td>\n",
       "      <td>0</td>\n",
       "    </tr>\n",
       "    <tr>\n",
       "      <th>4</th>\n",
       "      <td>2.066937</td>\n",
       "      <td>0.383782</td>\n",
       "      <td>-1.035627</td>\n",
       "      <td>0.785996</td>\n",
       "      <td>-0.912601</td>\n",
       "      <td>1</td>\n",
       "      <td>1</td>\n",
       "      <td>-0.366132</td>\n",
       "      <td>0</td>\n",
       "      <td>0</td>\n",
       "      <td>1</td>\n",
       "      <td>1</td>\n",
       "      <td>0</td>\n",
       "    </tr>\n",
       "    <tr>\n",
       "      <th>...</th>\n",
       "      <td>...</td>\n",
       "      <td>...</td>\n",
       "      <td>...</td>\n",
       "      <td>...</td>\n",
       "      <td>...</td>\n",
       "      <td>...</td>\n",
       "      <td>...</td>\n",
       "      <td>...</td>\n",
       "      <td>...</td>\n",
       "      <td>...</td>\n",
       "      <td>...</td>\n",
       "      <td>...</td>\n",
       "      <td>...</td>\n",
       "    </tr>\n",
       "    <tr>\n",
       "      <th>9994</th>\n",
       "      <td>1.548293</td>\n",
       "      <td>-0.942603</td>\n",
       "      <td>-1.035627</td>\n",
       "      <td>-1.227780</td>\n",
       "      <td>0.808655</td>\n",
       "      <td>0</td>\n",
       "      <td>0</td>\n",
       "      <td>1.173038</td>\n",
       "      <td>1</td>\n",
       "      <td>0</td>\n",
       "      <td>0</td>\n",
       "      <td>1</td>\n",
       "      <td>0</td>\n",
       "    </tr>\n",
       "    <tr>\n",
       "      <th>9995</th>\n",
       "      <td>1.247479</td>\n",
       "      <td>0.004815</td>\n",
       "      <td>0.000798</td>\n",
       "      <td>-1.227780</td>\n",
       "      <td>0.808655</td>\n",
       "      <td>1</td>\n",
       "      <td>0</td>\n",
       "      <td>-0.067866</td>\n",
       "      <td>1</td>\n",
       "      <td>0</td>\n",
       "      <td>0</td>\n",
       "      <td>0</td>\n",
       "      <td>1</td>\n",
       "    </tr>\n",
       "    <tr>\n",
       "      <th>9996</th>\n",
       "      <td>-1.397607</td>\n",
       "      <td>-0.374153</td>\n",
       "      <td>1.728174</td>\n",
       "      <td>-0.307305</td>\n",
       "      <td>-0.912601</td>\n",
       "      <td>1</td>\n",
       "      <td>1</td>\n",
       "      <td>0.026354</td>\n",
       "      <td>1</td>\n",
       "      <td>0</td>\n",
       "      <td>0</td>\n",
       "      <td>0</td>\n",
       "      <td>1</td>\n",
       "    </tr>\n",
       "    <tr>\n",
       "      <th>9997</th>\n",
       "      <td>0.604360</td>\n",
       "      <td>-0.279411</td>\n",
       "      <td>0.691748</td>\n",
       "      <td>-1.227780</td>\n",
       "      <td>-0.912601</td>\n",
       "      <td>0</td>\n",
       "      <td>1</td>\n",
       "      <td>-1.008227</td>\n",
       "      <td>1</td>\n",
       "      <td>0</td>\n",
       "      <td>0</td>\n",
       "      <td>1</td>\n",
       "      <td>0</td>\n",
       "    </tr>\n",
       "    <tr>\n",
       "      <th>9998</th>\n",
       "      <td>1.257852</td>\n",
       "      <td>0.289040</td>\n",
       "      <td>-0.690152</td>\n",
       "      <td>-0.023223</td>\n",
       "      <td>0.808655</td>\n",
       "      <td>1</td>\n",
       "      <td>0</td>\n",
       "      <td>-0.126562</td>\n",
       "      <td>0</td>\n",
       "      <td>1</td>\n",
       "      <td>0</td>\n",
       "      <td>0</td>\n",
       "      <td>1</td>\n",
       "    </tr>\n",
       "  </tbody>\n",
       "</table>\n",
       "<p>9091 rows × 13 columns</p>\n",
       "</div>"
      ],
      "text/plain": [
       "      CreditScore       Age    Tenure   Balance  NumOfProducts  HasCrCard  \\\n",
       "0       -0.329200  0.289040 -1.035627 -1.227780      -0.912601          1   \n",
       "1       -0.443301  0.194298 -1.381103  0.116887      -0.912601          0   \n",
       "2       -1.542828  0.289040  1.037224  1.333920       2.529911          1   \n",
       "3        0.500631  0.004815 -1.381103 -1.227780       0.808655          0   \n",
       "4        2.066937  0.383782 -1.035627  0.785996      -0.912601          1   \n",
       "...           ...       ...       ...       ...            ...        ...   \n",
       "9994     1.548293 -0.942603 -1.035627 -1.227780       0.808655          0   \n",
       "9995     1.247479  0.004815  0.000798 -1.227780       0.808655          1   \n",
       "9996    -1.397607 -0.374153  1.728174 -0.307305      -0.912601          1   \n",
       "9997     0.604360 -0.279411  0.691748 -1.227780      -0.912601          0   \n",
       "9998     1.257852  0.289040 -0.690152 -0.023223       0.808655          1   \n",
       "\n",
       "      IsActiveMember  EstimatedSalary  Geography_France  Geography_Germany  \\\n",
       "0                  1         0.020264                 1                  0   \n",
       "1                  1         0.214527                 0                  0   \n",
       "2                  0         0.238632                 1                  0   \n",
       "3                  0        -0.110281                 1                  0   \n",
       "4                  1        -0.366132                 0                  0   \n",
       "...              ...              ...               ...                ...   \n",
       "9994               0         1.173038                 1                  0   \n",
       "9995               0        -0.067866                 1                  0   \n",
       "9996               1         0.026354                 1                  0   \n",
       "9997               1        -1.008227                 1                  0   \n",
       "9998               0        -0.126562                 0                  1   \n",
       "\n",
       "      Geography_Spain  Gender_Female  Gender_Male  \n",
       "0                   0              1            0  \n",
       "1                   1              1            0  \n",
       "2                   0              1            0  \n",
       "3                   0              1            0  \n",
       "4                   1              1            0  \n",
       "...               ...            ...          ...  \n",
       "9994                0              1            0  \n",
       "9995                0              0            1  \n",
       "9996                0              0            1  \n",
       "9997                0              1            0  \n",
       "9998                0              0            1  \n",
       "\n",
       "[9091 rows x 13 columns]"
      ]
     },
     "execution_count": 16,
     "metadata": {},
     "output_type": "execute_result"
    }
   ],
   "source": [
    "# Cambiando las columnas a las codificadas.\n",
    "data_features_ohe = data_features.drop(['Geography', 'Gender'], axis=1)\n",
    "\n",
    "data_features_ohe = pd.concat([data_features_ohe, ohe], axis=1)\n",
    "data_features_ohe"
   ]
  },
  {
   "cell_type": "markdown",
   "metadata": {},
   "source": [
    "Ahora contamos con las clases codificadas y escaladas listas para introducirse en un modelo de regresión logística."
   ]
  },
  {
   "cell_type": "markdown",
   "metadata": {},
   "source": [
    "### 2.5. Codificación ordinal. <a id=\"ordinal\"></a>"
   ]
  },
  {
   "cell_type": "markdown",
   "metadata": {},
   "source": [
    "Ya que otro de los tipos de modelo que probaremos será un bosque aleatorio de decisión, la codificación OHE no será la más indicada para este tipo de modelo, en este caso codificaremos las mismas clases Geography y Gender usando la codificación ordinal."
   ]
  },
  {
   "cell_type": "code",
   "execution_count": 17,
   "metadata": {
    "trusted": true
   },
   "outputs": [
    {
     "data": {
      "text/html": [
       "<div>\n",
       "<style scoped>\n",
       "    .dataframe tbody tr th:only-of-type {\n",
       "        vertical-align: middle;\n",
       "    }\n",
       "\n",
       "    .dataframe tbody tr th {\n",
       "        vertical-align: top;\n",
       "    }\n",
       "\n",
       "    .dataframe thead th {\n",
       "        text-align: right;\n",
       "    }\n",
       "</style>\n",
       "<table border=\"1\" class=\"dataframe\">\n",
       "  <thead>\n",
       "    <tr style=\"text-align: right;\">\n",
       "      <th></th>\n",
       "      <th>CreditScore</th>\n",
       "      <th>Geography</th>\n",
       "      <th>Gender</th>\n",
       "      <th>Age</th>\n",
       "      <th>Tenure</th>\n",
       "      <th>Balance</th>\n",
       "      <th>NumOfProducts</th>\n",
       "      <th>HasCrCard</th>\n",
       "      <th>IsActiveMember</th>\n",
       "      <th>EstimatedSalary</th>\n",
       "    </tr>\n",
       "  </thead>\n",
       "  <tbody>\n",
       "    <tr>\n",
       "      <th>0</th>\n",
       "      <td>-0.329200</td>\n",
       "      <td>0.0</td>\n",
       "      <td>0.0</td>\n",
       "      <td>0.289040</td>\n",
       "      <td>-1.035627</td>\n",
       "      <td>-1.227780</td>\n",
       "      <td>-0.912601</td>\n",
       "      <td>1</td>\n",
       "      <td>1</td>\n",
       "      <td>0.020264</td>\n",
       "    </tr>\n",
       "    <tr>\n",
       "      <th>1</th>\n",
       "      <td>-0.443301</td>\n",
       "      <td>2.0</td>\n",
       "      <td>0.0</td>\n",
       "      <td>0.194298</td>\n",
       "      <td>-1.381103</td>\n",
       "      <td>0.116887</td>\n",
       "      <td>-0.912601</td>\n",
       "      <td>0</td>\n",
       "      <td>1</td>\n",
       "      <td>0.214527</td>\n",
       "    </tr>\n",
       "    <tr>\n",
       "      <th>2</th>\n",
       "      <td>-1.542828</td>\n",
       "      <td>0.0</td>\n",
       "      <td>0.0</td>\n",
       "      <td>0.289040</td>\n",
       "      <td>1.037224</td>\n",
       "      <td>1.333920</td>\n",
       "      <td>2.529911</td>\n",
       "      <td>1</td>\n",
       "      <td>0</td>\n",
       "      <td>0.238632</td>\n",
       "    </tr>\n",
       "    <tr>\n",
       "      <th>3</th>\n",
       "      <td>0.500631</td>\n",
       "      <td>0.0</td>\n",
       "      <td>0.0</td>\n",
       "      <td>0.004815</td>\n",
       "      <td>-1.381103</td>\n",
       "      <td>-1.227780</td>\n",
       "      <td>0.808655</td>\n",
       "      <td>0</td>\n",
       "      <td>0</td>\n",
       "      <td>-0.110281</td>\n",
       "    </tr>\n",
       "    <tr>\n",
       "      <th>4</th>\n",
       "      <td>2.066937</td>\n",
       "      <td>2.0</td>\n",
       "      <td>0.0</td>\n",
       "      <td>0.383782</td>\n",
       "      <td>-1.035627</td>\n",
       "      <td>0.785996</td>\n",
       "      <td>-0.912601</td>\n",
       "      <td>1</td>\n",
       "      <td>1</td>\n",
       "      <td>-0.366132</td>\n",
       "    </tr>\n",
       "    <tr>\n",
       "      <th>...</th>\n",
       "      <td>...</td>\n",
       "      <td>...</td>\n",
       "      <td>...</td>\n",
       "      <td>...</td>\n",
       "      <td>...</td>\n",
       "      <td>...</td>\n",
       "      <td>...</td>\n",
       "      <td>...</td>\n",
       "      <td>...</td>\n",
       "      <td>...</td>\n",
       "    </tr>\n",
       "    <tr>\n",
       "      <th>9994</th>\n",
       "      <td>1.548293</td>\n",
       "      <td>0.0</td>\n",
       "      <td>0.0</td>\n",
       "      <td>-0.942603</td>\n",
       "      <td>-1.035627</td>\n",
       "      <td>-1.227780</td>\n",
       "      <td>0.808655</td>\n",
       "      <td>0</td>\n",
       "      <td>0</td>\n",
       "      <td>1.173038</td>\n",
       "    </tr>\n",
       "    <tr>\n",
       "      <th>9995</th>\n",
       "      <td>1.247479</td>\n",
       "      <td>0.0</td>\n",
       "      <td>1.0</td>\n",
       "      <td>0.004815</td>\n",
       "      <td>0.000798</td>\n",
       "      <td>-1.227780</td>\n",
       "      <td>0.808655</td>\n",
       "      <td>1</td>\n",
       "      <td>0</td>\n",
       "      <td>-0.067866</td>\n",
       "    </tr>\n",
       "    <tr>\n",
       "      <th>9996</th>\n",
       "      <td>-1.397607</td>\n",
       "      <td>0.0</td>\n",
       "      <td>1.0</td>\n",
       "      <td>-0.374153</td>\n",
       "      <td>1.728174</td>\n",
       "      <td>-0.307305</td>\n",
       "      <td>-0.912601</td>\n",
       "      <td>1</td>\n",
       "      <td>1</td>\n",
       "      <td>0.026354</td>\n",
       "    </tr>\n",
       "    <tr>\n",
       "      <th>9997</th>\n",
       "      <td>0.604360</td>\n",
       "      <td>0.0</td>\n",
       "      <td>0.0</td>\n",
       "      <td>-0.279411</td>\n",
       "      <td>0.691748</td>\n",
       "      <td>-1.227780</td>\n",
       "      <td>-0.912601</td>\n",
       "      <td>0</td>\n",
       "      <td>1</td>\n",
       "      <td>-1.008227</td>\n",
       "    </tr>\n",
       "    <tr>\n",
       "      <th>9998</th>\n",
       "      <td>1.257852</td>\n",
       "      <td>1.0</td>\n",
       "      <td>1.0</td>\n",
       "      <td>0.289040</td>\n",
       "      <td>-0.690152</td>\n",
       "      <td>-0.023223</td>\n",
       "      <td>0.808655</td>\n",
       "      <td>1</td>\n",
       "      <td>0</td>\n",
       "      <td>-0.126562</td>\n",
       "    </tr>\n",
       "  </tbody>\n",
       "</table>\n",
       "<p>9091 rows × 10 columns</p>\n",
       "</div>"
      ],
      "text/plain": [
       "      CreditScore  Geography  Gender       Age    Tenure   Balance  \\\n",
       "0       -0.329200        0.0     0.0  0.289040 -1.035627 -1.227780   \n",
       "1       -0.443301        2.0     0.0  0.194298 -1.381103  0.116887   \n",
       "2       -1.542828        0.0     0.0  0.289040  1.037224  1.333920   \n",
       "3        0.500631        0.0     0.0  0.004815 -1.381103 -1.227780   \n",
       "4        2.066937        2.0     0.0  0.383782 -1.035627  0.785996   \n",
       "...           ...        ...     ...       ...       ...       ...   \n",
       "9994     1.548293        0.0     0.0 -0.942603 -1.035627 -1.227780   \n",
       "9995     1.247479        0.0     1.0  0.004815  0.000798 -1.227780   \n",
       "9996    -1.397607        0.0     1.0 -0.374153  1.728174 -0.307305   \n",
       "9997     0.604360        0.0     0.0 -0.279411  0.691748 -1.227780   \n",
       "9998     1.257852        1.0     1.0  0.289040 -0.690152 -0.023223   \n",
       "\n",
       "      NumOfProducts  HasCrCard  IsActiveMember  EstimatedSalary  \n",
       "0         -0.912601          1               1         0.020264  \n",
       "1         -0.912601          0               1         0.214527  \n",
       "2          2.529911          1               0         0.238632  \n",
       "3          0.808655          0               0        -0.110281  \n",
       "4         -0.912601          1               1        -0.366132  \n",
       "...             ...        ...             ...              ...  \n",
       "9994       0.808655          0               0         1.173038  \n",
       "9995       0.808655          1               0        -0.067866  \n",
       "9996      -0.912601          1               1         0.026354  \n",
       "9997      -0.912601          0               1        -1.008227  \n",
       "9998       0.808655          1               0        -0.126562  \n",
       "\n",
       "[9091 rows x 10 columns]"
      ]
     },
     "execution_count": 17,
     "metadata": {},
     "output_type": "execute_result"
    }
   ],
   "source": [
    "# Seleccionando las clases categoricas.\n",
    "categorical = ['Geography', 'Gender']\n",
    "data_features_ordinal = data_features.copy()\n",
    "\n",
    "# Codificación Ordinal.\n",
    "encoder = OrdinalEncoder()\n",
    "\n",
    "data_features_ordinal[categorical] = encoder.fit_transform(data_features[categorical])\n",
    "data_features_ordinal"
   ]
  },
  {
   "cell_type": "markdown",
   "metadata": {},
   "source": [
    "Estas clases están listas para usarse en el entrenamiento del modelo de bosque aleatorio."
   ]
  },
  {
   "cell_type": "markdown",
   "metadata": {},
   "source": [
    "### 2.6. Datasets de entrenamiento, validación y pruebas. <a id=\"data_segment\"></a>"
   ]
  },
  {
   "cell_type": "markdown",
   "metadata": {},
   "source": [
    "Dividiremos los datos de las características y los objetivos en 3 grupos para cada conjunto preparado (regresión logística y bosque de decisiones). Los 3 grupos corresponderán a un conjunto de entrenamiento, un conjunto de validación y un conjunto de pruebas."
   ]
  },
  {
   "cell_type": "code",
   "execution_count": 18,
   "metadata": {
    "trusted": true
   },
   "outputs": [],
   "source": [
    "# Datasets para regresión logistica.\n",
    "# Generando dataset de entrenamiento con el 60% de los datos.\n",
    "data_features_ohe_training, data_features_ohe_valid, data_target_ohe_training, data_target_ohe_valid = train_test_split(data_features_ohe, data_target, test_size=0.4, random_state=12345)\n",
    "\n",
    "# Generando dataset de validación y prueba con el 20% y 20% de los datos.\n",
    "data_features_ohe_valid, data_features_ohe_test, data_target_ohe_valid, data_target_ohe_test = train_test_split(data_features_ohe_valid, data_target_ohe_valid, test_size=0.5, random_state=12345)"
   ]
  },
  {
   "cell_type": "code",
   "execution_count": 19,
   "metadata": {
    "trusted": true
   },
   "outputs": [],
   "source": [
    "# Datasets para bosque aleatorio.\n",
    "# Generando dataset de entrenamiento con el 60% de los datos.\n",
    "data_features_ordinal_training, data_features_ordinal_valid, data_target_ordinal_training, data_target_ordinal_valid = train_test_split(data_features_ordinal, data_target, test_size=0.4, random_state=12345)\n",
    "\n",
    "# Generando dataset de validación y prueba con el 20% y 20% de los datos.\n",
    "data_features_ordinal_valid, data_features_ordinal_test, data_target_ordinal_valid, data_target_ordinal_test = train_test_split(data_features_ordinal_valid, data_target_ordinal_valid, test_size=0.5, random_state=12345)"
   ]
  },
  {
   "cell_type": "markdown",
   "metadata": {},
   "source": [
    "## 3. Modelo desbalanceado. <a id=\"desbalanced\"></a>"
   ]
  },
  {
   "cell_type": "markdown",
   "metadata": {},
   "source": [
    "### 3.1. Modelo de bosque aleatorio de decisión. <a id=\"model_random_forest_d\"></a>"
   ]
  },
  {
   "cell_type": "markdown",
   "metadata": {},
   "source": [
    "Realizaremos un estudio para determinar los hiperparámetros más apropiados con base en la métrica F1. También utilizaremos el conjunto de datos que codificamos ordinalmente."
   ]
  },
  {
   "cell_type": "code",
   "execution_count": 20,
   "metadata": {
    "trusted": true
   },
   "outputs": [
    {
     "name": "stdout",
     "output_type": "stream",
     "text": [
      "El mejor valor f1 es 0.5830508474576271 en el bosque con 30 estimadores y de profundidad 10.\n"
     ]
    }
   ],
   "source": [
    "# Declarar variables para almacenar los resultados.\n",
    "best_score = 0\n",
    "best_estimators = 0\n",
    "best_depth = 0\n",
    "\n",
    "# Iterar en diferentes opciones de hiperparametros para el bosque.\n",
    "for estimators in range(10, 60, 10):\n",
    "    for depth in range(1, 11):\n",
    "        # Crear la instancia del bosque aleatorio y entrenarlo.\n",
    "        model_rfc = RandomForestClassifier(n_estimators=estimators, max_depth=depth, random_state=12345)\n",
    "        model_rfc.fit(data_features_ordinal_training, data_target_ordinal_training)\n",
    "        \n",
    "        # Predicción para el modelo de validación.\n",
    "        data_predict_ordinal_valid = model_rfc.predict(data_features_ordinal_valid)\n",
    "        \n",
    "        # Evaluación del modelo.\n",
    "        score = f1_score(data_target_ordinal_valid, data_predict_ordinal_valid)\n",
    "        \n",
    "        # Comparación del modelo con los otros.\n",
    "        if score > best_score:\n",
    "            best_score = score\n",
    "            best_estimators = estimators\n",
    "            best_depth = depth\n",
    "\n",
    "# Imprimir los resultados            \n",
    "print(f'El mejor valor f1 es {best_score} en el bosque con {best_estimators} estimadores y de profundidad {best_depth}.')"
   ]
  },
  {
   "cell_type": "markdown",
   "metadata": {},
   "source": [
    "El bosque aleatorio de decisiones con el mejor resultado de la métrica F1 es aquel con 30 estimadores y de profundidad 10, este nos proporcionó un valor de 0.58, un valor que no satisface nuestro límite propuesto de 0.59, continuaremos explorando el modelo de regresión logística y también evaluando este mismo modelo con las clases balanceadas."
   ]
  },
  {
   "cell_type": "markdown",
   "metadata": {},
   "source": [
    "### 3.2. Modelo de regresión logística. <a id=\"model_logistic_regression_d\"></a>"
   ]
  },
  {
   "cell_type": "markdown",
   "metadata": {},
   "source": [
    "Para este modelo usaremos el conjunto de datos codificados con One-Hot."
   ]
  },
  {
   "cell_type": "code",
   "execution_count": 21,
   "metadata": {
    "trusted": true
   },
   "outputs": [
    {
     "name": "stdout",
     "output_type": "stream",
     "text": [
      "El modelo de regresión lineal tiene un valor f1 de 0.3033932135728543\n"
     ]
    }
   ],
   "source": [
    "# Crear una instancia del modelo y entrenarlo.\n",
    "model_rl = LogisticRegression(solver='liblinear', random_state=12345)\n",
    "model_rl.fit(data_features_ohe_training, data_target_ohe_training)\n",
    "\n",
    "# Predicción para el conjunto de validación.\n",
    "data_predict_ohe_valid = model_rl.predict(data_features_ohe_valid)\n",
    "\n",
    "# Evaluación del modelo con la metric f1.\n",
    "model_rl_score = f1_score(data_target_ohe_valid, data_predict_ohe_valid)\n",
    "\n",
    "print(f'El modelo de regresión lineal tiene un valor f1 de {model_rl_score}')"
   ]
  },
  {
   "cell_type": "markdown",
   "metadata": {},
   "source": [
    "Este modelo tiene un valor f1 de 0.3, un valor mucho menor que el primer modelo, aunque cabe recordar que aquí nuestras clases se encuentran fuertemente desbalanceadas, por lo que aún podemos mejorar este valor al hacernos cargo de ellas.\n",
    "\n",
    "Como conclusión, ninguno de los dos modelos aquí estudiados podría satisfacer las necesidades del proyecto sin un balanceo de clases. Es por eso que esta característica de los datos debe ser tomada en cuenta y darle relevancia cuando tiene un sesgo de desbalance fuerte."
   ]
  },
  {
   "cell_type": "markdown",
   "metadata": {},
   "source": [
    "## 4. Balanceo de clases objetivo. <a id=\"balancing\"></a>"
   ]
  },
  {
   "cell_type": "markdown",
   "metadata": {},
   "source": [
    "Realizaremos balanceos de la clase objetivo, para ello utilizaremos diferentes métodos dependiendo del modelo utilizado.\n",
    "\n",
    "__Regresión logística__\n",
    "- Ajuste de peso de clase.\n",
    "- Ajuste del umbral de clasificación.\n",
    "\n",
    "__Bosque aleatorio__\n",
    "- Sobre muestreo.\n",
    "- Ajuste del umbral de clasificación."
   ]
  },
  {
   "cell_type": "markdown",
   "metadata": {},
   "source": [
    "### 4.1. Regresión logística. <a id=\"model_logistic_regression_bal\"></a>"
   ]
  },
  {
   "cell_type": "markdown",
   "metadata": {},
   "source": [
    "Para balancear el modelo, especificaremos en el hiperparámetro class_weight que queremos las clases balanceadas. "
   ]
  },
  {
   "cell_type": "code",
   "execution_count": 22,
   "metadata": {
    "trusted": true
   },
   "outputs": [
    {
     "name": "stdout",
     "output_type": "stream",
     "text": [
      "El modelo de regresión lineal tiene un valor f1 de 0.509731232622799\n"
     ]
    }
   ],
   "source": [
    "# Crear una instancia del modelo y entrenarlo con el ajuste de clases.\n",
    "model_rl = LogisticRegression(class_weight='balanced', solver='liblinear', random_state=12345)\n",
    "model_rl.fit(data_features_ohe_training, data_target_ohe_training)\n",
    "\n",
    "# Predicción para el conjunto de validación.\n",
    "data_predict_ohe_valid = model_rl.predict(data_features_ohe_valid)\n",
    "\n",
    "# Evaluación del modelo con la metric f1.\n",
    "model_rl_score = f1_score(data_target_ohe_valid, data_predict_ohe_valid)\n",
    "\n",
    "print(f'El modelo de regresión lineal tiene un valor f1 de {model_rl_score}')"
   ]
  },
  {
   "cell_type": "markdown",
   "metadata": {},
   "source": [
    "El resultado de este balance de clases resultó en un incremento de la métrica F1; sin embargo, aún no logra satisfacer nuestro umbral de 0.59. Ahora realizaremos otro tipo de balanceo, ajustando el umbral de clasificación de este modelo."
   ]
  },
  {
   "cell_type": "code",
   "execution_count": 23,
   "metadata": {
    "trusted": true
   },
   "outputs": [
    {
     "name": "stdout",
     "output_type": "stream",
     "text": [
      "El mejor resultado de f1 es 0.508577194752775 y se obtiene en el umbral 0.23\n"
     ]
    }
   ],
   "source": [
    "# Entrenamos el modelo y predecimos las probabilidades.\n",
    "model_rl = LogisticRegression(solver='liblinear', random_state=12345)\n",
    "model_rl.fit(data_features_ohe_training, data_target_ohe_training)\n",
    "data_probabilities_ohe_valid = model_rl.predict_proba(data_features_ohe_valid)\n",
    "probabilities_one_ohe_valid = data_probabilities_ohe_valid[:, 1]\n",
    "\n",
    "# Establecemos variables para almacenar los resultados.\n",
    "best_score = 0\n",
    "best_threshold = 0\n",
    "\n",
    "# Hacemos el estudio para evaluar el mejor umbral usando la metrica f1.\n",
    "for threshold in np.arange(0, 0.5, 0.01):\n",
    "    predicted_valid = probabilities_one_ohe_valid > threshold\n",
    "    score = f1_score(data_target_ohe_valid, predicted_valid)\n",
    "    if score > best_score:\n",
    "        best_score = score\n",
    "        best_threshold = threshold\n",
    "\n",
    "# Mostramos los resultados.      \n",
    "print(f'El mejor resultado de f1 es {best_score} y se obtiene en el umbral {best_threshold}')"
   ]
  },
  {
   "cell_type": "markdown",
   "metadata": {},
   "source": [
    "Utilizando este método de balanceo también observamos mejoras similares en el modelo, aunque siguen mostrando un desempeño menor al deseado. Continuaremos las exploraciones en el otro modelo, el bosque aleatorio de decisiones."
   ]
  },
  {
   "cell_type": "markdown",
   "metadata": {},
   "source": [
    "### 4.2. Bosque aleatorio de decisiones. <a id=\"model_random_forest_bal\"></a>"
   ]
  },
  {
   "cell_type": "markdown",
   "metadata": {},
   "source": [
    "El primer método de balanceo consistirá en realizar un sobre muestreo de la clase extraña, es decir, '1'."
   ]
  },
  {
   "cell_type": "code",
   "execution_count": 24,
   "metadata": {
    "trusted": true
   },
   "outputs": [
    {
     "name": "stdout",
     "output_type": "stream",
     "text": [
      "Conjunto de caracteristicas:\n",
      "       CreditScore  Geography  Gender       Age    Tenure   Balance  \\\n",
      "3655     1.071140        1.0     1.0 -0.374153  0.346273  0.353996   \n",
      "8212    -0.495166        0.0     1.0 -0.658378  0.691748 -1.227780   \n",
      "8760     0.272428        2.0     0.0 -0.468894  1.728174  1.526634   \n",
      "8240     1.444564        1.0     1.0  1.046975  1.037224  0.720659   \n",
      "7498    -0.215098        0.0     0.0 -0.279411  1.037224  0.803456   \n",
      "...           ...        ...     ...       ...       ...       ...   \n",
      "243      0.085716        1.0     1.0  2.657586  0.346273  0.656047   \n",
      "3343    -1.833268        0.0     1.0 -0.184669 -0.690152  0.351516   \n",
      "2855     0.614733        2.0     0.0  3.415520  0.000798 -1.227780   \n",
      "9390     1.050394        1.0     0.0 -0.184669  0.000798  0.589934   \n",
      "6273     0.957038        2.0     1.0  0.383782 -1.035627  1.368358   \n",
      "\n",
      "      NumOfProducts  HasCrCard  IsActiveMember  EstimatedSalary  \n",
      "3655       0.808655          0               1         0.103010  \n",
      "8212      -0.912601          1               0         1.698577  \n",
      "8760      -0.912601          1               1        -0.857377  \n",
      "8240      -0.912601          1               1         1.323993  \n",
      "7498       0.808655          1               1         0.593991  \n",
      "...             ...        ...             ...              ...  \n",
      "243       -0.912601          1               1        -0.956415  \n",
      "3343      -0.912601          0               0        -0.424889  \n",
      "2855       0.808655          1               1        -1.575873  \n",
      "9390       0.808655          1               1         0.560316  \n",
      "6273       0.808655          0               1        -0.120655  \n",
      "\n",
      "[8832 rows x 10 columns]\n",
      "Conjunto objetivo:\n",
      " 3655    0\n",
      "8212    1\n",
      "8760    0\n",
      "8240    1\n",
      "7498    0\n",
      "       ..\n",
      "243     1\n",
      "3343    0\n",
      "2855    0\n",
      "9390    0\n",
      "6273    1\n",
      "Name: Exited, Length: 8832, dtype: int64\n"
     ]
    }
   ],
   "source": [
    "# Separando las filas de 0 y 1.\n",
    "features_zeros = data_features_ordinal_training[data_target_ordinal_training == 0]\n",
    "features_ones = data_features_ordinal_training[data_target_ordinal_training == 1]\n",
    "target_zeros = data_target_ordinal_training[data_target_ordinal_training == 0]\n",
    "target_ones = data_target_ordinal_training[data_target_ordinal_training == 1]\n",
    "\n",
    "# Encontrar la proporción por la que se debe ampliar la muestra de 1.\n",
    "repeat = round(len(target_zeros)/len(target_ones))\n",
    "\n",
    "# Aumentando la proporcion de 1 y uniendolos con los 0.\n",
    "features_upsampled = pd.concat([features_zeros] + [features_ones] * repeat)\n",
    "target_upsampled = pd.concat([target_zeros] + [target_ones] * repeat)\n",
    "\n",
    "# Mezclando las observaciones.\n",
    "features_upsampled, target_upsampled = shuffle(features_upsampled, target_upsampled, random_state=12345)\n",
    "print('Conjunto de caracteristicas:\\n', features_upsampled)\n",
    "print('Conjunto objetivo:\\n', target_upsampled)"
   ]
  },
  {
   "cell_type": "markdown",
   "metadata": {},
   "source": [
    "Una vez hemos aumentado el muestreo de la clase '1', vamos a volver a evaluar el modelo usando los hiperparámetros que identificamos previamente para el número de estimadores y la profundidad de los árboles."
   ]
  },
  {
   "cell_type": "code",
   "execution_count": 25,
   "metadata": {
    "trusted": true
   },
   "outputs": [
    {
     "name": "stdout",
     "output_type": "stream",
     "text": [
      "El valor f1 es 0.6181384248210023.\n"
     ]
    }
   ],
   "source": [
    "# Entrenamos el modelo con los nuevos conjuntos.\n",
    "model_rfc = RandomForestClassifier(n_estimators=30, max_depth=10, random_state=12345)\n",
    "model_rfc.fit(features_upsampled, target_upsampled)\n",
    "\n",
    "# Evaluamos la metrica F1.\n",
    "data_predicted_ordinal_valid = model_rfc.predict(data_features_ordinal_valid)\n",
    "\n",
    "print(f'El valor f1 es {f1_score(data_target_ordinal_valid, data_predicted_ordinal_valid)}.')"
   ]
  },
  {
   "cell_type": "markdown",
   "metadata": {},
   "source": [
    "Utilizando este método de balanceo y este modelo, apenas logramos superar el umbral con un valor de 0.62 en la métrica F1. Este modelo se postula como nuestra primera opción para probar con el conjunto test. Ahora comprobaremos los resultados ajustando el umbral de este modelo."
   ]
  },
  {
   "cell_type": "code",
   "execution_count": 26,
   "metadata": {
    "trusted": true
   },
   "outputs": [
    {
     "name": "stdout",
     "output_type": "stream",
     "text": [
      "El mejor resultado de f1 es 0.6333333333333333 y se obtiene en el umbral 0.36\n"
     ]
    }
   ],
   "source": [
    "# Entrenamos el modelo y predecimos las probabilidades.\n",
    "model_rfc = RandomForestClassifier(n_estimators=30, max_depth=10, random_state=12345)\n",
    "model_rfc.fit(data_features_ordinal_training, data_target_ordinal_training)\n",
    "data_probabilities_ordinal_valid = model_rfc.predict_proba(data_features_ordinal_valid)\n",
    "probabilities_one_ordinal_valid = data_probabilities_ordinal_valid[:, 1]\n",
    "\n",
    "# Establecemos variables para almacenar los resultados.\n",
    "best_score = 0\n",
    "best_threshold = 0\n",
    "\n",
    "# Hacemos el estudio para evaluar el mejor umbral usando la metrica f1.\n",
    "for threshold in np.arange(0, 0.5, 0.01):\n",
    "    predicted_valid = probabilities_one_ordinal_valid > threshold\n",
    "    score = f1_score(data_target_ordinal_valid, predicted_valid)\n",
    "    if score > best_score:\n",
    "        best_score = score\n",
    "        best_threshold = threshold\n",
    "\n",
    "# Mostramos los resultados.      \n",
    "print(f'El mejor resultado de f1 es {best_score} y se obtiene en el umbral {best_threshold}')"
   ]
  },
  {
   "cell_type": "markdown",
   "metadata": {},
   "source": [
    "En este método hemos logrado un valor de F1 de hasta 0.63 al usar un umbral de 0.36 para clasificar la predicción del modelo como 1, siendo el modelo con los resultados más altos en esta métrica."
   ]
  },
  {
   "cell_type": "markdown",
   "metadata": {},
   "source": [
    "## 5. Selección y evaluación del modelo. <a id=\"model_results\"></a>"
   ]
  },
  {
   "cell_type": "markdown",
   "metadata": {},
   "source": [
    "Al obtener resultados que cumplen con la condición de superar valores de 0.59 en la métrica F1, se elegirá el modelo de Bosque Aleatorio de decisiones para continuar con los estudios y se dejará de lado la regresión logística. Los hiperparámetros para nuestro bosque serán de 30 estimadores y de longitud máxima de árbol 10. También el umbral de clasificación será de 0.36.\n",
    "\n",
    "Revisaremos algunas otras métricas para asegurarnos que el modelo de bosque aleatorio con ajuste de umbral es un buen modelo para realizar predicciones en nuestro negocio. Primero revisaremos la curva ROC y el área bajo esta curva para revisar la relación entre Verdaderos positivos y Falsos positivos y que nuestro modelo prediga mejores respuestas que respuestas aleatorias."
   ]
  },
  {
   "cell_type": "code",
   "execution_count": 27,
   "metadata": {
    "trusted": true
   },
   "outputs": [],
   "source": [
    "# Especificamos y entrenamos el modelo elegido.\n",
    "model = RandomForestClassifier(n_estimators=30, max_depth=10, random_state=12345)\n",
    "model.fit(data_features_ordinal_training, data_target_ordinal_training)\n",
    "\n",
    "# Prediccion de las probabilidades para  la curva ROC.\n",
    "data_probabilities_ordinal_valid = model.predict_proba(data_features_ordinal_valid)\n",
    "probabilities_one_ordinal_valid = data_probabilities_ordinal_valid[:, 1]"
   ]
  },
  {
   "cell_type": "code",
   "execution_count": 28,
   "metadata": {
    "trusted": true
   },
   "outputs": [
    {
     "data": {
      "image/png": "[encoded data removed]",
      "text/plain": [
       "<Figure size 640x480 with 1 Axes>"
      ]
     },
     "metadata": {},
     "output_type": "display_data"
    }
   ],
   "source": [
    "# Encontrando las variables de la curva ROC.\n",
    "fpr, tpr, thresholds = roc_curve(data_target_ordinal_valid, probabilities_one_ordinal_valid)\n",
    "\n",
    "# Generando la figura.\n",
    "plt.figure()\n",
    "\n",
    "plt.plot(fpr, tpr)\n",
    "\n",
    "# Curva ROC para modelo aleatorio (parece una línea recta).\n",
    "plt.plot([0, 1], [0, 1], linestyle='--')\n",
    "\n",
    "# Ajustes para la gráfica.\n",
    "plt.xlim([0,1])\n",
    "plt.ylim([0,1]) \n",
    "\n",
    "plt.xlabel(\"Tasa de falsos positivos\")\n",
    "plt.ylabel(\"Tasa de verdaderos positivos\")\n",
    "plt.title(\"Curva ROC\")\n",
    "\n",
    "plt.show()"
   ]
  },
  {
   "cell_type": "code",
   "execution_count": 29,
   "metadata": {
    "trusted": true
   },
   "outputs": [
    {
     "name": "stdout",
     "output_type": "stream",
     "text": [
      "0.8640072746416522\n"
     ]
    }
   ],
   "source": [
    "# Calculando el área bajo la curva de la gráfica.\n",
    "auc_roc = roc_auc_score(data_target_ordinal_valid, probabilities_one_ordinal_valid)\n",
    "print(auc_roc)"
   ]
  },
  {
   "cell_type": "markdown",
   "metadata": {},
   "source": [
    "Acabamos de obtener un resultado bastante aceptable para nuestro modelo con valoración de F1 0.63, en este caso el resultado del área bajo la curva es de 0.86 aproximadamente, 36 puntos decimales por encima del resultado con respuestas aleatorias (0.5) lo que significa que nuestro modelo presenta mejores respuestas que este. Revisemos ahora si el modelo está sobre ajustado."
   ]
  },
  {
   "cell_type": "code",
   "execution_count": 30,
   "metadata": {
    "trusted": true
   },
   "outputs": [
    {
     "name": "stdout",
     "output_type": "stream",
     "text": [
      "Exactitud\n",
      "Conjunto de entrenamiento: 0.9218921892189219\n",
      "Conjunto de validación: 0.8547854785478548\n"
     ]
    }
   ],
   "source": [
    "# Definiendo el umbral.\n",
    "threshold = 0.36\n",
    "\n",
    "# Hallando las prediciones para el conjunto de entrenamiento.\n",
    "train_probabilities = model.predict_proba(data_features_ordinal_training)\n",
    "probabilities_one_train = train_probabilities[:, 1]\n",
    "train_predictions = probabilities_one_train > threshold\n",
    "  \n",
    "# Hallando las predicciones para el conjunto de validación.\n",
    "valid_probabilities = model.predict_proba(data_features_ordinal_valid)\n",
    "probabilities_one_valid = valid_probabilities[:, 1]\n",
    "valid_predictions = probabilities_one_valid > threshold\n",
    "\n",
    "# Calculando la exactitud para ambos conjuntos de predicciones.\n",
    "print('Exactitud')\n",
    "print('Conjunto de entrenamiento:', accuracy_score(data_target_ordinal_training, train_predictions))\n",
    "print('Conjunto de validación:', accuracy_score(data_target_ordinal_valid, valid_predictions))"
   ]
  },
  {
   "cell_type": "markdown",
   "metadata": {},
   "source": [
    "Los resultados nos muestran una diferencia en la métrica de exactitud de 0.07 puntos, esto nos indica un sobre ajuste muy ligero que despierta ninguna alarma para nuestro modelo."
   ]
  },
  {
   "cell_type": "markdown",
   "metadata": {},
   "source": [
    "## 6. Predicciones en conjunto de pruebas. <a id=\"predictions\"></a>"
   ]
  },
  {
   "cell_type": "markdown",
   "metadata": {},
   "source": [
    "Ahora que hemos comprobado que nuestro modelo es apto para realizar predicciones, lo pondremos a prueba con nuestro set destinado para ello. También utilizaremos los datos de entrenamiento y validación para volver a entrenar nuestro modelo y procurar mejorar las predicciones."
   ]
  },
  {
   "cell_type": "code",
   "execution_count": 31,
   "metadata": {
    "trusted": true
   },
   "outputs": [
    {
     "name": "stdout",
     "output_type": "stream",
     "text": [
      "      CreditScore  Geography  Gender       Age    Tenure   Balance  \\\n",
      "9344     0.791072        0.0     0.0 -1.037345 -1.035627  0.553139   \n",
      "3796    -1.179777        0.0     1.0 -1.226829  0.691748  0.479334   \n",
      "7462    -0.422556        0.0     1.0  0.099557  1.382699 -1.227780   \n",
      "1508    -0.775234        0.0     1.0 -0.279411  0.346273 -1.227780   \n",
      "4478    -1.055302        0.0     1.0 -0.753120 -0.344677 -1.227780   \n",
      "...           ...        ...     ...       ...       ...       ...   \n",
      "7505     0.085716        2.0     1.0 -1.132087 -0.344677 -1.227780   \n",
      "2232    -0.018013        2.0     1.0 -0.279411  1.037224 -1.227780   \n",
      "3720    -1.843641        1.0     1.0  0.099557  1.037224  1.220251   \n",
      "5196     0.708089        0.0     0.0 -1.605796  0.691748  0.607981   \n",
      "2460     0.096089        1.0     1.0  0.194298 -1.381103  0.856438   \n",
      "\n",
      "      NumOfProducts  HasCrCard  IsActiveMember  EstimatedSalary  \n",
      "9344      -0.912601          1               0         0.021737  \n",
      "3796      -0.912601          0               0         0.058694  \n",
      "7462      -0.912601          1               1         0.857688  \n",
      "1508       0.808655          1               1        -0.900135  \n",
      "4478       0.808655          0               1        -1.292855  \n",
      "...             ...        ...             ...              ...  \n",
      "7505       0.808655          1               0        -0.014567  \n",
      "2232       0.808655          1               0         1.067082  \n",
      "3720       0.808655          1               0        -0.470441  \n",
      "5196      -0.912601          1               1         1.341792  \n",
      "2460      -0.912601          1               0        -1.286942  \n",
      "\n",
      "[7272 rows x 10 columns]\n",
      "9344    0\n",
      "3796    0\n",
      "7462    0\n",
      "1508    0\n",
      "4478    0\n",
      "       ..\n",
      "7505    0\n",
      "2232    0\n",
      "3720    0\n",
      "5196    0\n",
      "2460    1\n",
      "Name: Exited, Length: 7272, dtype: int64\n"
     ]
    }
   ],
   "source": [
    "# Uniendo los conjuntos de entrenamiento y validación.\n",
    "data_features_training = pd.concat([data_features_ordinal_training, data_features_ordinal_valid])\n",
    "data_target_training = pd.concat([data_target_ordinal_training, data_target_ordinal_valid])\n",
    "\n",
    "print(data_features_training)\n",
    "print(data_target_training)"
   ]
  },
  {
   "cell_type": "code",
   "execution_count": 32,
   "metadata": {
    "trusted": true
   },
   "outputs": [
    {
     "data": {
      "text/plain": [
       "RandomForestClassifier(max_depth=10, n_estimators=30, random_state=12345)"
      ]
     },
     "execution_count": 32,
     "metadata": {},
     "output_type": "execute_result"
    }
   ],
   "source": [
    "# Reentrenamos el modelo.\n",
    "model = RandomForestClassifier(n_estimators=30, max_depth=10, random_state=12345)\n",
    "model.fit(data_features_training, data_target_training)"
   ]
  },
  {
   "cell_type": "code",
   "execution_count": 33,
   "metadata": {
    "trusted": true
   },
   "outputs": [
    {
     "name": "stdout",
     "output_type": "stream",
     "text": [
      "El valor f1 es 0.5953488372093022.\n"
     ]
    }
   ],
   "source": [
    "# Confirmando el umbral\n",
    "threshold = 0.36\n",
    "\n",
    "# Hallando las predicciones para el conjunto de prueba.\n",
    "test_probabilities = model.predict_proba(data_features_ordinal_test)\n",
    "probabilities_one_test = test_probabilities[:, 1]\n",
    "test_predictions = probabilities_one_test > threshold\n",
    "\n",
    "# Encontrando el valor de F1 para el set de pruebas.\n",
    "test_score = f1_score(data_target_ordinal_test, test_predictions)\n",
    "\n",
    "# Imprimiendo resultados.\n",
    "print(f'El valor f1 es {test_score}.')"
   ]
  },
  {
   "cell_type": "markdown",
   "metadata": {},
   "source": [
    "Nos damos cuenta de que el valor de F1 para el conjunto de pruebas es de 0.59, lo suficientemente bueno para ser aprobado; sin embargo, vamos a reevaluar nuevamente los hiperparámetros y el umbral usando todos los datos nuevos de entrenamiento y el conjunto de pruebas, esto con el fin de actualizarlos mejor con los nuevos datos que han ingresado."
   ]
  },
  {
   "cell_type": "code",
   "execution_count": 34,
   "metadata": {
    "trusted": true
   },
   "outputs": [
    {
     "name": "stdout",
     "output_type": "stream",
     "text": [
      "El mejor valor f1 es 0.62882096069869 en el bosque con 16 estimadores y de profundidad 9, con umbral 0.32.\n"
     ]
    }
   ],
   "source": [
    "# Declarar variables para almacenar los resultados.\n",
    "best_score = 0\n",
    "best_estimators = 0\n",
    "best_depth = 0\n",
    "best_threshold = 0\n",
    "\n",
    "# Iterar en diferentes opciones de hiperparametros para el bosque.\n",
    "for estimators in range(10, 51, 1):\n",
    "    for depth in range(1, 11):\n",
    "        # Crear la instancia del bosque aleatorio y entrenarlo.\n",
    "        model = RandomForestClassifier(n_estimators=estimators, max_depth=depth, random_state=12345)\n",
    "        model.fit(data_features_training, data_target_training)\n",
    "        \n",
    "        # Predicción para el modelo de validación.\n",
    "        test_probabilities = model.predict_proba(data_features_ordinal_test)\n",
    "        probabilities_one_test = test_probabilities[:, 1]        \n",
    "        \n",
    "        # Iteramos tambien en el umbral.\n",
    "        for threshold in np.arange(0, 0.5, 0.01):\n",
    "            test_predictions = probabilities_one_test > threshold\n",
    "            \n",
    "            # Evaluación del modelo.\n",
    "            score = f1_score(data_target_ordinal_test, test_predictions)\n",
    "            \n",
    "            # Comparación del modelo con los otros.\n",
    "            if score > best_score:\n",
    "                best_score = score\n",
    "                best_estimators = estimators\n",
    "                best_depth = depth\n",
    "                best_threshold = threshold           \n",
    "\n",
    "# Imprimir los resultados            \n",
    "print(f'El mejor valor f1 es {best_score} en el bosque con {best_estimators} estimadores y de profundidad {best_depth}, con umbral {best_threshold}.')"
   ]
  },
  {
   "cell_type": "markdown",
   "metadata": {},
   "source": [
    "Con un bosque de 16 estimadores, profundidad máxima de los árboles de 9 y un umbral de clasificación de 0,32, hemos logrado mejorar los resultados de F1 para el conjunto de pruebas, este es ahora de 0.63 aproximadamente. Mantendremos ahora estos resultados para el modelo y exploraremos el ROC y el área bajo su curva para terminar la evaluación y resultados de este."
   ]
  },
  {
   "cell_type": "code",
   "execution_count": 35,
   "metadata": {
    "trusted": true
   },
   "outputs": [
    {
     "data": {
      "text/plain": [
       "RandomForestClassifier(max_depth=9, n_estimators=16, random_state=12345)"
      ]
     },
     "execution_count": 35,
     "metadata": {},
     "output_type": "execute_result"
    }
   ],
   "source": [
    "# Reentrenamos el modelo con los resultados.\n",
    "model = RandomForestClassifier(n_estimators=16, max_depth=9, random_state=12345)\n",
    "model.fit(data_features_training, data_target_training)"
   ]
  },
  {
   "cell_type": "code",
   "execution_count": 36,
   "metadata": {
    "trusted": true
   },
   "outputs": [
    {
     "name": "stdout",
     "output_type": "stream",
     "text": [
      "El valor f1 es 0.62882096069869.\n"
     ]
    }
   ],
   "source": [
    "# Actualizamos el umbral.\n",
    "threshold = 0.32\n",
    "\n",
    "# Hallando las predicciones para el conjunto de prueba.\n",
    "test_probabilities = model.predict_proba(data_features_ordinal_test)\n",
    "probabilities_one_test = test_probabilities[:, 1]\n",
    "test_predictions = probabilities_one_test > threshold\n",
    "\n",
    "# Encontrando el valor de F1 para el set de pruebas.\n",
    "test_score = f1_score(data_target_ordinal_test, test_predictions)\n",
    "\n",
    "# Imprimiendo resultados.\n",
    "print(f'El valor f1 es {test_score}.')"
   ]
  },
  {
   "cell_type": "markdown",
   "metadata": {},
   "source": [
    "Hemos confirmado los resultados de este modelo. Ahora revisemos la curva ROC."
   ]
  },
  {
   "cell_type": "code",
   "execution_count": 37,
   "metadata": {
    "trusted": true
   },
   "outputs": [
    {
     "data": {
      "image/png": "[encoded data removed]",
      "text/plain": [
       "<Figure size 640x480 with 1 Axes>"
      ]
     },
     "metadata": {},
     "output_type": "display_data"
    }
   ],
   "source": [
    "# Encontrando las variables de la curva ROC.\n",
    "fpr, tpr, thresholds = roc_curve(data_target_ordinal_test, probabilities_one_test)\n",
    "\n",
    "# Generando la figura.\n",
    "plt.figure()\n",
    "\n",
    "plt.plot(fpr, tpr)\n",
    "\n",
    "# Curva ROC para modelo aleatorio (parece una línea recta).\n",
    "plt.plot([0, 1], [0, 1], linestyle='--')\n",
    "\n",
    "# Ajustes para la gráfica.\n",
    "plt.xlim([0,1])\n",
    "plt.ylim([0,1])\n",
    "\n",
    "plt.xlabel(\"Tasa de falsos positivos\")\n",
    "plt.ylabel(\"Tasa de verdaderos positivos\")\n",
    "plt.title(\"Curva ROC\")\n",
    "\n",
    "plt.show()"
   ]
  },
  {
   "cell_type": "code",
   "execution_count": 38,
   "metadata": {
    "trusted": true
   },
   "outputs": [
    {
     "name": "stdout",
     "output_type": "stream",
     "text": [
      "0.8562874077179254\n"
     ]
    }
   ],
   "source": [
    "# Calculando el área bajo la curva de la gráfica.\n",
    "auc_roc = roc_auc_score(data_target_ordinal_test, probabilities_one_test)\n",
    "print(auc_roc)"
   ]
  },
  {
   "cell_type": "markdown",
   "metadata": {},
   "source": [
    "El valor del área bajo la curva ROC es de 0.86, por lo que no ha cambiado; mantenemos los resultados de estas métricas."
   ]
  },
  {
   "cell_type": "markdown",
   "metadata": {},
   "source": [
    "## Conclusiones <a id=\"end\"></a>"
   ]
  },
  {
   "cell_type": "markdown",
   "metadata": {},
   "source": [
    "- El modelo de bosque aleatorio de decisiones mostró los mejores resultados comparándolo con un modelo de regresión logística.\n",
    "\n",
    "- Al realizar ajustes en el umbral de clasificación para balancear la clase objetivo y realizar escalado de sus características numéricas junto con codificación ordinal de las características categóricas, logramos preparar los datos para que ingresaran mejor al modelo de bosque aleatorio.\n",
    "\n",
    "- Explorando con los hiperparámetros del modelo logramos determinar también que el número de estimadores que regreso mejores resultados en el conjunto de prueba fue  de 16, la longitud de los árboles fue de 9 y el umbral de clasificación de 0.32, esto nos permitió obtener una métrica de F1 de 0.63 aproximadamente confirmando la eficiencia junto con el área bajo la curva ROC que nos determinó un modelo más confiable que la predicción aleatoria siendo el resultado 0.86.\n",
    "\n",
    "- Como conclusión final, el modelo cumple con la condición de superar el valor F1 de 0.59, por lo que podemos utilizarlo para determinar a los clientes que tienen una alta probabilidad de abandonar la compañía."
   ]
  }
 ],
 "metadata": {
  "ExecuteTimeLog": [
   {
    "duration": 329,
    "start_time": "2025-05-01T17:10:09.555Z"
   },
   {
    "duration": 40,
    "start_time": "2025-05-01T17:10:15.687Z"
   },
   {
    "duration": 11,
    "start_time": "2025-05-01T17:14:24.379Z"
   },
   {
    "duration": 29,
    "start_time": "2025-05-01T17:15:17.686Z"
   },
   {
    "duration": 22,
    "start_time": "2025-05-01T17:15:59.693Z"
   },
   {
    "duration": 27,
    "start_time": "2025-05-01T17:26:05.048Z"
   },
   {
    "duration": 4,
    "start_time": "2025-05-01T17:26:37.569Z"
   },
   {
    "duration": 5,
    "start_time": "2025-05-01T17:26:53.448Z"
   },
   {
    "duration": 15,
    "start_time": "2025-05-01T17:30:56.757Z"
   },
   {
    "duration": 6,
    "start_time": "2025-05-01T17:42:39.448Z"
   },
   {
    "duration": 18,
    "start_time": "2025-05-01T17:42:46.161Z"
   },
   {
    "duration": 7,
    "start_time": "2025-05-01T17:43:51.930Z"
   },
   {
    "duration": 26,
    "start_time": "2025-05-01T17:43:55.764Z"
   },
   {
    "duration": 86,
    "start_time": "2025-05-01T17:45:32.131Z"
   },
   {
    "duration": 6,
    "start_time": "2025-05-01T17:45:58.774Z"
   },
   {
    "duration": 22,
    "start_time": "2025-05-01T17:54:52.717Z"
   },
   {
    "duration": 164,
    "start_time": "2025-05-01T18:10:30.036Z"
   },
   {
    "duration": 326,
    "start_time": "2025-05-01T18:10:38.751Z"
   },
   {
    "duration": 26,
    "start_time": "2025-05-01T18:10:39.080Z"
   },
   {
    "duration": 10,
    "start_time": "2025-05-01T18:10:39.107Z"
   },
   {
    "duration": 46,
    "start_time": "2025-05-01T18:10:39.119Z"
   },
   {
    "duration": 15,
    "start_time": "2025-05-01T18:10:39.167Z"
   },
   {
    "duration": 188,
    "start_time": "2025-05-01T18:10:39.184Z"
   },
   {
    "duration": 0,
    "start_time": "2025-05-01T18:10:39.375Z"
   },
   {
    "duration": 0,
    "start_time": "2025-05-01T18:10:39.376Z"
   },
   {
    "duration": 0,
    "start_time": "2025-05-01T18:10:39.377Z"
   },
   {
    "duration": 4,
    "start_time": "2025-05-01T18:11:07.383Z"
   },
   {
    "duration": 15,
    "start_time": "2025-05-01T18:12:19.425Z"
   },
   {
    "duration": 19,
    "start_time": "2025-05-01T18:17:47.452Z"
   },
   {
    "duration": 13,
    "start_time": "2025-05-01T18:18:06.452Z"
   },
   {
    "duration": 5,
    "start_time": "2025-05-01T18:18:57.440Z"
   },
   {
    "duration": 11,
    "start_time": "2025-05-01T18:19:11.345Z"
   },
   {
    "duration": 10,
    "start_time": "2025-05-01T18:19:25.582Z"
   },
   {
    "duration": 5,
    "start_time": "2025-05-01T18:20:52.390Z"
   },
   {
    "duration": 10,
    "start_time": "2025-05-01T18:21:14.572Z"
   },
   {
    "duration": 10,
    "start_time": "2025-05-01T18:21:39.075Z"
   },
   {
    "duration": 4,
    "start_time": "2025-05-01T18:22:20.685Z"
   },
   {
    "duration": 5,
    "start_time": "2025-05-01T18:25:54.112Z"
   },
   {
    "duration": 2,
    "start_time": "2025-05-01T23:04:34.437Z"
   },
   {
    "duration": 157,
    "start_time": "2025-05-01T23:10:53.413Z"
   },
   {
    "duration": 278,
    "start_time": "2025-05-01T23:11:00.959Z"
   },
   {
    "duration": 37,
    "start_time": "2025-05-01T23:11:01.239Z"
   },
   {
    "duration": 11,
    "start_time": "2025-05-01T23:11:01.278Z"
   },
   {
    "duration": 29,
    "start_time": "2025-05-01T23:11:01.291Z"
   },
   {
    "duration": 15,
    "start_time": "2025-05-01T23:11:01.322Z"
   },
   {
    "duration": 4,
    "start_time": "2025-05-01T23:11:01.339Z"
   },
   {
    "duration": 41,
    "start_time": "2025-05-01T23:11:01.345Z"
   },
   {
    "duration": 10,
    "start_time": "2025-05-01T23:11:01.388Z"
   },
   {
    "duration": 10,
    "start_time": "2025-05-01T23:11:01.400Z"
   },
   {
    "duration": 4,
    "start_time": "2025-05-01T23:11:01.412Z"
   },
   {
    "duration": 4,
    "start_time": "2025-05-01T23:11:01.418Z"
   },
   {
    "duration": 435,
    "start_time": "2025-05-01T23:14:55.047Z"
   },
   {
    "duration": 16,
    "start_time": "2025-05-01T23:40:05.685Z"
   },
   {
    "duration": 210,
    "start_time": "2025-05-01T23:41:02.682Z"
   },
   {
    "duration": 14,
    "start_time": "2025-05-01T23:41:05.249Z"
   },
   {
    "duration": 5,
    "start_time": "2025-05-01T23:42:21.774Z"
   },
   {
    "duration": 27,
    "start_time": "2025-05-01T23:48:21.962Z"
   },
   {
    "duration": 8,
    "start_time": "2025-05-01T23:49:54.507Z"
   },
   {
    "duration": 814,
    "start_time": "2025-05-02T18:50:50.427Z"
   },
   {
    "duration": 38,
    "start_time": "2025-05-02T18:50:51.244Z"
   },
   {
    "duration": 10,
    "start_time": "2025-05-02T18:50:51.284Z"
   },
   {
    "duration": 36,
    "start_time": "2025-05-02T18:50:51.296Z"
   },
   {
    "duration": 24,
    "start_time": "2025-05-02T18:50:51.336Z"
   },
   {
    "duration": 5,
    "start_time": "2025-05-02T18:50:51.363Z"
   },
   {
    "duration": 17,
    "start_time": "2025-05-02T18:50:51.371Z"
   },
   {
    "duration": 12,
    "start_time": "2025-05-02T18:50:51.390Z"
   },
   {
    "duration": 14,
    "start_time": "2025-05-02T18:50:51.431Z"
   },
   {
    "duration": 5,
    "start_time": "2025-05-02T18:50:51.447Z"
   },
   {
    "duration": 6,
    "start_time": "2025-05-02T18:50:51.454Z"
   },
   {
    "duration": 16,
    "start_time": "2025-05-02T18:50:51.462Z"
   },
   {
    "duration": 7,
    "start_time": "2025-05-02T18:50:51.480Z"
   },
   {
    "duration": 68,
    "start_time": "2025-05-02T18:50:51.490Z"
   },
   {
    "duration": 721,
    "start_time": "2025-05-03T00:58:58.452Z"
   },
   {
    "duration": 34,
    "start_time": "2025-05-03T00:58:59.175Z"
   },
   {
    "duration": 10,
    "start_time": "2025-05-03T00:58:59.211Z"
   },
   {
    "duration": 27,
    "start_time": "2025-05-03T00:58:59.223Z"
   },
   {
    "duration": 23,
    "start_time": "2025-05-03T00:58:59.252Z"
   },
   {
    "duration": 5,
    "start_time": "2025-05-03T00:58:59.277Z"
   },
   {
    "duration": 21,
    "start_time": "2025-05-03T00:58:59.284Z"
   },
   {
    "duration": 10,
    "start_time": "2025-05-03T00:58:59.307Z"
   },
   {
    "duration": 10,
    "start_time": "2025-05-03T00:58:59.319Z"
   },
   {
    "duration": 4,
    "start_time": "2025-05-03T00:58:59.331Z"
   },
   {
    "duration": 5,
    "start_time": "2025-05-03T00:58:59.370Z"
   },
   {
    "duration": 12,
    "start_time": "2025-05-03T00:58:59.377Z"
   },
   {
    "duration": 4,
    "start_time": "2025-05-03T00:58:59.391Z"
   },
   {
    "duration": 22,
    "start_time": "2025-05-03T00:58:59.397Z"
   },
   {
    "duration": 642,
    "start_time": "2025-05-03T00:58:59.421Z"
   },
   {
    "duration": 41,
    "start_time": "2025-05-03T00:59:36.649Z"
   },
   {
    "duration": 611,
    "start_time": "2025-05-03T01:00:11.577Z"
   },
   {
    "duration": 48,
    "start_time": "2025-05-03T01:00:18.440Z"
   },
   {
    "duration": 13,
    "start_time": "2025-05-03T01:00:40.707Z"
   },
   {
    "duration": 12,
    "start_time": "2025-05-03T01:02:42.573Z"
   },
   {
    "duration": 55,
    "start_time": "2025-05-03T01:07:02.196Z"
   },
   {
    "duration": 17,
    "start_time": "2025-05-03T01:07:09.266Z"
   },
   {
    "duration": 16,
    "start_time": "2025-05-03T01:07:58.645Z"
   },
   {
    "duration": 707,
    "start_time": "2025-05-03T01:08:09.742Z"
   },
   {
    "duration": 30,
    "start_time": "2025-05-03T01:08:10.451Z"
   },
   {
    "duration": 12,
    "start_time": "2025-05-03T01:08:10.483Z"
   },
   {
    "duration": 29,
    "start_time": "2025-05-03T01:08:10.498Z"
   },
   {
    "duration": 14,
    "start_time": "2025-05-03T01:08:10.528Z"
   },
   {
    "duration": 27,
    "start_time": "2025-05-03T01:08:10.543Z"
   },
   {
    "duration": 15,
    "start_time": "2025-05-03T01:08:10.572Z"
   },
   {
    "duration": 10,
    "start_time": "2025-05-03T01:08:10.588Z"
   },
   {
    "duration": 9,
    "start_time": "2025-05-03T01:08:10.599Z"
   },
   {
    "duration": 4,
    "start_time": "2025-05-03T01:08:10.611Z"
   },
   {
    "duration": 5,
    "start_time": "2025-05-03T01:08:10.617Z"
   },
   {
    "duration": 49,
    "start_time": "2025-05-03T01:08:10.623Z"
   },
   {
    "duration": 4,
    "start_time": "2025-05-03T01:08:10.674Z"
   },
   {
    "duration": 24,
    "start_time": "2025-05-03T01:08:10.680Z"
   },
   {
    "duration": 12,
    "start_time": "2025-05-03T01:08:10.706Z"
   },
   {
    "duration": 13,
    "start_time": "2025-05-03T01:08:10.720Z"
   },
   {
    "duration": 2,
    "start_time": "2025-05-03T01:15:46.126Z"
   },
   {
    "duration": 9,
    "start_time": "2025-05-03T01:22:00.047Z"
   },
   {
    "duration": 1175,
    "start_time": "2025-05-03T01:35:43.772Z"
   },
   {
    "duration": 19,
    "start_time": "2025-05-03T01:36:03.386Z"
   },
   {
    "duration": 25,
    "start_time": "2025-05-03T02:50:26.530Z"
   },
   {
    "duration": 61,
    "start_time": "2025-05-03T02:50:56.161Z"
   },
   {
    "duration": 20,
    "start_time": "2025-05-03T02:51:31.128Z"
   },
   {
    "duration": 3,
    "start_time": "2025-05-03T02:51:49.759Z"
   },
   {
    "duration": 5,
    "start_time": "2025-05-03T03:39:48.086Z"
   },
   {
    "duration": 12,
    "start_time": "2025-05-03T03:39:53.583Z"
   },
   {
    "duration": 6,
    "start_time": "2025-05-03T03:39:55.318Z"
   },
   {
    "duration": 13,
    "start_time": "2025-05-03T03:40:04.395Z"
   },
   {
    "duration": 12,
    "start_time": "2025-05-03T03:40:12.332Z"
   },
   {
    "duration": 16,
    "start_time": "2025-05-03T03:40:24.508Z"
   },
   {
    "duration": 4,
    "start_time": "2025-05-03T03:40:35.466Z"
   },
   {
    "duration": 5,
    "start_time": "2025-05-03T03:40:44.897Z"
   },
   {
    "duration": 8,
    "start_time": "2025-05-03T03:41:05.493Z"
   },
   {
    "duration": 15,
    "start_time": "2025-05-03T03:41:17.264Z"
   },
   {
    "duration": 5,
    "start_time": "2025-05-03T03:41:24.923Z"
   },
   {
    "duration": 20,
    "start_time": "2025-05-03T03:41:33.467Z"
   },
   {
    "duration": 14,
    "start_time": "2025-05-03T03:41:42.811Z"
   },
   {
    "duration": 4,
    "start_time": "2025-05-03T03:41:55.955Z"
   },
   {
    "duration": 12,
    "start_time": "2025-05-03T03:42:03.218Z"
   },
   {
    "duration": 4,
    "start_time": "2025-05-03T03:42:10.034Z"
   },
   {
    "duration": 12,
    "start_time": "2025-05-03T03:42:15.422Z"
   },
   {
    "duration": 5,
    "start_time": "2025-05-03T03:42:20.592Z"
   },
   {
    "duration": 3,
    "start_time": "2025-05-03T03:53:20.228Z"
   },
   {
    "duration": 33,
    "start_time": "2025-05-03T03:57:43.507Z"
   },
   {
    "duration": 5002,
    "start_time": "2025-05-03T03:57:57.591Z"
   },
   {
    "duration": 786,
    "start_time": "2025-05-03T03:59:34.286Z"
   },
   {
    "duration": 35,
    "start_time": "2025-05-03T03:59:35.083Z"
   },
   {
    "duration": 11,
    "start_time": "2025-05-03T03:59:35.120Z"
   },
   {
    "duration": 28,
    "start_time": "2025-05-03T03:59:35.132Z"
   },
   {
    "duration": 26,
    "start_time": "2025-05-03T03:59:35.163Z"
   },
   {
    "duration": 9,
    "start_time": "2025-05-03T03:59:35.190Z"
   },
   {
    "duration": 17,
    "start_time": "2025-05-03T03:59:35.202Z"
   },
   {
    "duration": 9,
    "start_time": "2025-05-03T03:59:35.221Z"
   },
   {
    "duration": 9,
    "start_time": "2025-05-03T03:59:35.231Z"
   },
   {
    "duration": 3,
    "start_time": "2025-05-03T03:59:35.242Z"
   },
   {
    "duration": 24,
    "start_time": "2025-05-03T03:59:35.247Z"
   },
   {
    "duration": 20,
    "start_time": "2025-05-03T03:59:35.273Z"
   },
   {
    "duration": 8,
    "start_time": "2025-05-03T03:59:35.297Z"
   },
   {
    "duration": 23,
    "start_time": "2025-05-03T03:59:35.309Z"
   },
   {
    "duration": 12,
    "start_time": "2025-05-03T03:59:35.334Z"
   },
   {
    "duration": 47,
    "start_time": "2025-05-03T03:59:35.348Z"
   },
   {
    "duration": 19,
    "start_time": "2025-05-03T03:59:35.397Z"
   },
   {
    "duration": 6,
    "start_time": "2025-05-03T03:59:35.417Z"
   },
   {
    "duration": 5,
    "start_time": "2025-05-03T03:59:35.425Z"
   },
   {
    "duration": 4993,
    "start_time": "2025-05-03T03:59:35.432Z"
   },
   {
    "duration": 2,
    "start_time": "2025-05-03T03:59:40.427Z"
   },
   {
    "duration": 742,
    "start_time": "2025-05-03T17:40:41.416Z"
   },
   {
    "duration": 30,
    "start_time": "2025-05-03T17:40:42.161Z"
   },
   {
    "duration": 11,
    "start_time": "2025-05-03T17:40:42.192Z"
   },
   {
    "duration": 32,
    "start_time": "2025-05-03T17:40:42.206Z"
   },
   {
    "duration": 14,
    "start_time": "2025-05-03T17:40:42.239Z"
   },
   {
    "duration": 4,
    "start_time": "2025-05-03T17:40:42.254Z"
   },
   {
    "duration": 15,
    "start_time": "2025-05-03T17:40:42.260Z"
   },
   {
    "duration": 8,
    "start_time": "2025-05-03T17:40:42.278Z"
   },
   {
    "duration": 38,
    "start_time": "2025-05-03T17:40:42.289Z"
   },
   {
    "duration": 3,
    "start_time": "2025-05-03T17:40:42.330Z"
   },
   {
    "duration": 5,
    "start_time": "2025-05-03T17:40:42.334Z"
   },
   {
    "duration": 13,
    "start_time": "2025-05-03T17:40:42.340Z"
   },
   {
    "duration": 4,
    "start_time": "2025-05-03T17:40:42.355Z"
   },
   {
    "duration": 22,
    "start_time": "2025-05-03T17:40:42.360Z"
   },
   {
    "duration": 43,
    "start_time": "2025-05-03T17:40:42.384Z"
   },
   {
    "duration": 14,
    "start_time": "2025-05-03T17:40:42.429Z"
   },
   {
    "duration": 20,
    "start_time": "2025-05-03T17:40:42.444Z"
   },
   {
    "duration": 7,
    "start_time": "2025-05-03T17:40:42.465Z"
   },
   {
    "duration": 7,
    "start_time": "2025-05-03T17:40:42.473Z"
   },
   {
    "duration": 4864,
    "start_time": "2025-05-03T17:40:42.483Z"
   },
   {
    "duration": 18,
    "start_time": "2025-05-03T17:40:47.349Z"
   },
   {
    "duration": 7,
    "start_time": "2025-05-03T18:00:56.988Z"
   },
   {
    "duration": 18,
    "start_time": "2025-05-03T18:06:07.781Z"
   },
   {
    "duration": 3,
    "start_time": "2025-05-03T18:09:51.860Z"
   },
   {
    "duration": 6,
    "start_time": "2025-05-03T18:20:57.840Z"
   },
   {
    "duration": 127,
    "start_time": "2025-05-03T18:24:21.616Z"
   },
   {
    "duration": 148,
    "start_time": "2025-05-03T18:25:04.972Z"
   },
   {
    "duration": 14,
    "start_time": "2025-05-03T18:26:12.868Z"
   },
   {
    "duration": 132,
    "start_time": "2025-05-03T18:27:03.516Z"
   },
   {
    "duration": 127,
    "start_time": "2025-05-03T18:29:35.408Z"
   },
   {
    "duration": 3,
    "start_time": "2025-05-03T18:34:32.676Z"
   },
   {
    "duration": 289,
    "start_time": "2025-05-03T18:41:15.431Z"
   },
   {
    "duration": 21,
    "start_time": "2025-05-03T18:41:25.788Z"
   },
   {
    "duration": 7,
    "start_time": "2025-05-03T18:41:29.591Z"
   },
   {
    "duration": 7,
    "start_time": "2025-05-03T18:41:45.792Z"
   },
   {
    "duration": 18,
    "start_time": "2025-05-03T18:43:53.149Z"
   },
   {
    "duration": 18,
    "start_time": "2025-05-03T18:44:08.773Z"
   },
   {
    "duration": 6,
    "start_time": "2025-05-03T18:44:45.294Z"
   },
   {
    "duration": 14,
    "start_time": "2025-05-03T18:51:27.277Z"
   },
   {
    "duration": 17,
    "start_time": "2025-05-03T18:54:15.058Z"
   },
   {
    "duration": 15,
    "start_time": "2025-05-03T18:54:29.545Z"
   },
   {
    "duration": 205,
    "start_time": "2025-05-03T19:02:31.035Z"
   },
   {
    "duration": 6774,
    "start_time": "2025-05-03T19:03:40.960Z"
   },
   {
    "duration": 177,
    "start_time": "2025-05-04T22:41:28.439Z"
   },
   {
    "duration": 14,
    "start_time": "2025-05-04T22:46:54.286Z"
   },
   {
    "duration": 772,
    "start_time": "2025-05-04T22:47:01.272Z"
   },
   {
    "duration": 31,
    "start_time": "2025-05-04T22:47:02.047Z"
   },
   {
    "duration": 10,
    "start_time": "2025-05-04T22:47:02.080Z"
   },
   {
    "duration": 36,
    "start_time": "2025-05-04T22:47:02.091Z"
   },
   {
    "duration": 16,
    "start_time": "2025-05-04T22:47:02.129Z"
   },
   {
    "duration": 5,
    "start_time": "2025-05-04T22:47:02.146Z"
   },
   {
    "duration": 15,
    "start_time": "2025-05-04T22:47:02.152Z"
   },
   {
    "duration": 9,
    "start_time": "2025-05-04T22:47:02.169Z"
   },
   {
    "duration": 40,
    "start_time": "2025-05-04T22:47:02.180Z"
   },
   {
    "duration": 4,
    "start_time": "2025-05-04T22:47:02.221Z"
   },
   {
    "duration": 5,
    "start_time": "2025-05-04T22:47:02.227Z"
   },
   {
    "duration": 13,
    "start_time": "2025-05-04T22:47:02.233Z"
   },
   {
    "duration": 3,
    "start_time": "2025-05-04T22:47:02.248Z"
   },
   {
    "duration": 22,
    "start_time": "2025-05-04T22:47:02.254Z"
   },
   {
    "duration": 12,
    "start_time": "2025-05-04T22:47:02.312Z"
   },
   {
    "duration": 15,
    "start_time": "2025-05-04T22:47:02.325Z"
   },
   {
    "duration": 19,
    "start_time": "2025-05-04T22:47:02.342Z"
   },
   {
    "duration": 6,
    "start_time": "2025-05-04T22:47:02.363Z"
   },
   {
    "duration": 5,
    "start_time": "2025-05-04T22:47:02.371Z"
   },
   {
    "duration": 4845,
    "start_time": "2025-05-04T22:47:02.378Z"
   },
   {
    "duration": 14,
    "start_time": "2025-05-04T22:47:07.225Z"
   },
   {
    "duration": 72,
    "start_time": "2025-05-04T22:47:07.240Z"
   },
   {
    "duration": 128,
    "start_time": "2025-05-04T22:47:07.317Z"
   },
   {
    "duration": 74,
    "start_time": "2025-05-04T22:47:07.446Z"
   },
   {
    "duration": 205,
    "start_time": "2025-05-04T22:47:07.522Z"
   },
   {
    "duration": 192,
    "start_time": "2025-05-04T22:47:07.728Z"
   },
   {
    "duration": 251,
    "start_time": "2025-05-04T22:55:52.450Z"
   },
   {
    "duration": 378,
    "start_time": "2025-05-04T22:56:29.882Z"
   },
   {
    "duration": 305,
    "start_time": "2025-05-04T22:56:44.943Z"
   },
   {
    "duration": 1856,
    "start_time": "2025-05-04T22:58:50.446Z"
   },
   {
    "duration": 227,
    "start_time": "2025-05-04T23:02:40.864Z"
   },
   {
    "duration": 3,
    "start_time": "2025-05-04T23:03:08.061Z"
   },
   {
    "duration": 106,
    "start_time": "2025-05-04T23:03:19.965Z"
   },
   {
    "duration": 5,
    "start_time": "2025-05-04T23:04:17.533Z"
   },
   {
    "duration": 4,
    "start_time": "2025-05-04T23:33:09.130Z"
   },
   {
    "duration": 142,
    "start_time": "2025-05-04T23:35:26.085Z"
   },
   {
    "duration": 97,
    "start_time": "2025-05-04T23:35:31.416Z"
   },
   {
    "duration": 5,
    "start_time": "2025-05-04T23:35:35.003Z"
   },
   {
    "duration": 142,
    "start_time": "2025-05-04T23:36:07.474Z"
   },
   {
    "duration": 147,
    "start_time": "2025-05-04T23:36:13.373Z"
   },
   {
    "duration": 4,
    "start_time": "2025-05-04T23:36:17.310Z"
   },
   {
    "duration": 41,
    "start_time": "2025-05-04T23:38:32.075Z"
   },
   {
    "duration": 29,
    "start_time": "2025-05-04T23:38:41.637Z"
   },
   {
    "duration": 6,
    "start_time": "2025-05-04T23:47:04.468Z"
   },
   {
    "duration": 30,
    "start_time": "2025-05-04T23:53:46.087Z"
   },
   {
    "duration": 7,
    "start_time": "2025-05-04T23:54:11.869Z"
   },
   {
    "duration": 29,
    "start_time": "2025-05-04T23:56:51.315Z"
   },
   {
    "duration": 13,
    "start_time": "2025-05-05T00:04:34.453Z"
   },
   {
    "duration": 97,
    "start_time": "2025-05-05T00:06:52.344Z"
   },
   {
    "duration": 5,
    "start_time": "2025-05-05T00:08:02.100Z"
   },
   {
    "duration": 17,
    "start_time": "2025-05-05T00:14:11.090Z"
   },
   {
    "duration": 16,
    "start_time": "2025-05-05T00:14:56.636Z"
   },
   {
    "duration": 9,
    "start_time": "2025-05-05T00:15:35.630Z"
   },
   {
    "duration": 172,
    "start_time": "2025-05-05T00:19:40.158Z"
   },
   {
    "duration": 13,
    "start_time": "2025-05-05T00:19:58.142Z"
   },
   {
    "duration": 98,
    "start_time": "2025-05-05T00:22:22.481Z"
   },
   {
    "duration": 5,
    "start_time": "2025-05-05T00:22:27.569Z"
   },
   {
    "duration": 228,
    "start_time": "2025-05-05T00:25:09.477Z"
   },
   {
    "duration": 15,
    "start_time": "2025-05-05T00:25:11.096Z"
   },
   {
    "duration": 283,
    "start_time": "2025-05-05T00:25:17.315Z"
   },
   {
    "duration": 18,
    "start_time": "2025-05-05T00:25:18.400Z"
   },
   {
    "duration": 338,
    "start_time": "2025-05-05T00:25:23.431Z"
   },
   {
    "duration": 20,
    "start_time": "2025-05-05T00:25:25.131Z"
   },
   {
    "duration": 230,
    "start_time": "2025-05-05T00:25:39.071Z"
   },
   {
    "duration": 18,
    "start_time": "2025-05-05T00:25:40.164Z"
   },
   {
    "duration": 171,
    "start_time": "2025-05-05T00:26:57.603Z"
   },
   {
    "duration": 13,
    "start_time": "2025-05-05T00:26:59.346Z"
   },
   {
    "duration": 49121,
    "start_time": "2025-05-05T00:35:07.585Z"
   },
   {
    "duration": 7964,
    "start_time": "2025-05-05T00:48:19.274Z"
   },
   {
    "duration": 64859,
    "start_time": "2025-05-05T00:49:00.799Z"
   },
   {
    "duration": 17,
    "start_time": "2025-05-05T00:54:38.757Z"
   },
   {
    "duration": 90,
    "start_time": "2025-05-05T00:55:06.317Z"
   },
   {
    "duration": 10,
    "start_time": "2025-05-05T00:55:09.088Z"
   },
   {
    "duration": 115,
    "start_time": "2025-05-05T00:55:24.949Z"
   },
   {
    "duration": 5,
    "start_time": "2025-05-05T00:55:29.887Z"
   },
   {
    "duration": 169,
    "start_time": "2025-05-05T01:00:51.040Z"
   },
   {
    "duration": 13,
    "start_time": "2025-05-05T01:00:53.532Z"
   },
   {
    "duration": 90,
    "start_time": "2025-05-05T01:16:44.212Z"
   },
   {
    "duration": 10,
    "start_time": "2025-05-05T01:16:58.446Z"
   },
   {
    "duration": 100,
    "start_time": "2025-05-05T01:17:32.913Z"
   },
   {
    "duration": 5,
    "start_time": "2025-05-05T01:17:37.468Z"
   },
   {
    "duration": 888,
    "start_time": "2025-05-05T01:41:22.314Z"
   },
   {
    "duration": 25,
    "start_time": "2025-05-05T01:41:23.204Z"
   },
   {
    "duration": 12,
    "start_time": "2025-05-05T01:41:23.230Z"
   },
   {
    "duration": 86,
    "start_time": "2025-05-05T01:41:23.246Z"
   },
   {
    "duration": 15,
    "start_time": "2025-05-05T01:41:23.334Z"
   },
   {
    "duration": 3,
    "start_time": "2025-05-05T01:41:23.351Z"
   },
   {
    "duration": 17,
    "start_time": "2025-05-05T01:41:23.356Z"
   },
   {
    "duration": 40,
    "start_time": "2025-05-05T01:41:23.375Z"
   },
   {
    "duration": 10,
    "start_time": "2025-05-05T01:41:23.416Z"
   },
   {
    "duration": 3,
    "start_time": "2025-05-05T01:41:23.429Z"
   },
   {
    "duration": 4,
    "start_time": "2025-05-05T01:41:23.434Z"
   },
   {
    "duration": 13,
    "start_time": "2025-05-05T01:41:23.440Z"
   },
   {
    "duration": 4,
    "start_time": "2025-05-05T01:41:23.454Z"
   },
   {
    "duration": 55,
    "start_time": "2025-05-05T01:41:23.460Z"
   },
   {
    "duration": 11,
    "start_time": "2025-05-05T01:41:23.517Z"
   },
   {
    "duration": 14,
    "start_time": "2025-05-05T01:41:23.530Z"
   },
   {
    "duration": 19,
    "start_time": "2025-05-05T01:41:23.545Z"
   },
   {
    "duration": 5,
    "start_time": "2025-05-05T01:41:23.566Z"
   },
   {
    "duration": 6,
    "start_time": "2025-05-05T01:41:23.573Z"
   },
   {
    "duration": 4832,
    "start_time": "2025-05-05T01:41:23.581Z"
   },
   {
    "duration": 14,
    "start_time": "2025-05-05T01:41:28.415Z"
   },
   {
    "duration": 88,
    "start_time": "2025-05-05T01:41:28.430Z"
   },
   {
    "duration": 204,
    "start_time": "2025-05-05T01:41:28.519Z"
   },
   {
    "duration": 15,
    "start_time": "2025-05-05T01:41:28.724Z"
   },
   {
    "duration": 219,
    "start_time": "2025-05-05T01:41:28.740Z"
   },
   {
    "duration": 199,
    "start_time": "2025-05-05T01:41:28.960Z"
   },
   {
    "duration": 152,
    "start_time": "2025-05-05T01:41:29.161Z"
   },
   {
    "duration": 116,
    "start_time": "2025-05-05T01:41:29.316Z"
   },
   {
    "duration": 5,
    "start_time": "2025-05-05T01:41:29.434Z"
   },
   {
    "duration": 29,
    "start_time": "2025-05-05T01:41:29.442Z"
   },
   {
    "duration": 10,
    "start_time": "2025-05-05T01:41:29.473Z"
   },
   {
    "duration": 193,
    "start_time": "2025-05-05T01:41:29.484Z"
   },
   {
    "duration": 13,
    "start_time": "2025-05-05T01:41:29.679Z"
   },
   {
    "duration": 64866,
    "start_time": "2025-05-05T01:41:29.694Z"
   },
   {
    "duration": 99,
    "start_time": "2025-05-05T01:42:34.561Z"
   },
   {
    "duration": 10,
    "start_time": "2025-05-05T01:42:34.661Z"
   },
   {
    "duration": 113,
    "start_time": "2025-05-05T01:42:34.672Z"
   },
   {
    "duration": 5,
    "start_time": "2025-05-05T01:42:34.787Z"
   },
   {
    "duration": 1596,
    "start_time": "2025-05-05T02:16:51.732Z"
   },
   {
    "duration": 31,
    "start_time": "2025-05-05T02:16:53.330Z"
   },
   {
    "duration": 11,
    "start_time": "2025-05-05T02:16:53.413Z"
   },
   {
    "duration": 130,
    "start_time": "2025-05-05T02:16:53.429Z"
   },
   {
    "duration": 14,
    "start_time": "2025-05-05T02:16:53.612Z"
   },
   {
    "duration": 3,
    "start_time": "2025-05-05T02:16:53.628Z"
   },
   {
    "duration": 18,
    "start_time": "2025-05-05T02:16:53.633Z"
   },
   {
    "duration": 9,
    "start_time": "2025-05-05T02:16:53.711Z"
   },
   {
    "duration": 10,
    "start_time": "2025-05-05T02:16:53.722Z"
   },
   {
    "duration": 4,
    "start_time": "2025-05-05T02:16:53.736Z"
   },
   {
    "duration": 6,
    "start_time": "2025-05-05T02:16:53.742Z"
   },
   {
    "duration": 15,
    "start_time": "2025-05-05T02:16:53.812Z"
   },
   {
    "duration": 4,
    "start_time": "2025-05-05T02:16:53.829Z"
   },
   {
    "duration": 90,
    "start_time": "2025-05-05T02:16:53.835Z"
   },
   {
    "duration": 13,
    "start_time": "2025-05-05T02:16:53.927Z"
   },
   {
    "duration": 15,
    "start_time": "2025-05-05T02:16:53.941Z"
   },
   {
    "duration": 21,
    "start_time": "2025-05-05T02:16:54.013Z"
   },
   {
    "duration": 7,
    "start_time": "2025-05-05T02:16:54.036Z"
   },
   {
    "duration": 67,
    "start_time": "2025-05-05T02:16:54.045Z"
   },
   {
    "duration": 10317,
    "start_time": "2025-05-05T02:16:54.113Z"
   },
   {
    "duration": 15,
    "start_time": "2025-05-05T02:17:04.432Z"
   },
   {
    "duration": 79,
    "start_time": "2025-05-05T02:17:04.449Z"
   },
   {
    "duration": 294,
    "start_time": "2025-05-05T02:17:04.530Z"
   },
   {
    "duration": 16,
    "start_time": "2025-05-05T02:17:04.826Z"
   },
   {
    "duration": 477,
    "start_time": "2025-05-05T02:17:04.844Z"
   },
   {
    "duration": 416,
    "start_time": "2025-05-05T02:17:05.322Z"
   },
   {
    "duration": 299,
    "start_time": "2025-05-05T02:17:05.740Z"
   },
   {
    "duration": 214,
    "start_time": "2025-05-05T02:17:06.044Z"
   },
   {
    "duration": 4,
    "start_time": "2025-05-05T02:17:06.314Z"
   },
   {
    "duration": 30,
    "start_time": "2025-05-05T02:17:06.320Z"
   },
   {
    "duration": 69,
    "start_time": "2025-05-05T02:17:06.351Z"
   },
   {
    "duration": 334,
    "start_time": "2025-05-05T02:17:06.421Z"
   },
   {
    "duration": 14,
    "start_time": "2025-05-05T02:17:06.811Z"
   },
   {
    "duration": 140985,
    "start_time": "2025-05-05T02:17:06.827Z"
   },
   {
    "duration": 199,
    "start_time": "2025-05-05T02:19:27.814Z"
   },
   {
    "duration": 17,
    "start_time": "2025-05-05T02:19:28.015Z"
   },
   {
    "duration": 208,
    "start_time": "2025-05-05T02:19:28.034Z"
   },
   {
    "duration": 4,
    "start_time": "2025-05-05T02:19:28.244Z"
   },
   {
    "duration": 941,
    "start_time": "2025-05-05T14:43:43.424Z"
   },
   {
    "duration": 37,
    "start_time": "2025-05-05T14:43:44.367Z"
   },
   {
    "duration": 10,
    "start_time": "2025-05-05T14:43:44.405Z"
   },
   {
    "duration": 80,
    "start_time": "2025-05-05T14:43:44.417Z"
   },
   {
    "duration": 22,
    "start_time": "2025-05-05T14:43:44.499Z"
   },
   {
    "duration": 4,
    "start_time": "2025-05-05T14:43:44.523Z"
   },
   {
    "duration": 15,
    "start_time": "2025-05-05T14:43:44.529Z"
   },
   {
    "duration": 9,
    "start_time": "2025-05-05T14:43:44.546Z"
   },
   {
    "duration": 10,
    "start_time": "2025-05-05T14:43:44.557Z"
   },
   {
    "duration": 4,
    "start_time": "2025-05-05T14:43:44.568Z"
   },
   {
    "duration": 41,
    "start_time": "2025-05-05T14:43:44.573Z"
   },
   {
    "duration": 13,
    "start_time": "2025-05-05T14:43:44.615Z"
   },
   {
    "duration": 4,
    "start_time": "2025-05-05T14:43:44.630Z"
   },
   {
    "duration": 22,
    "start_time": "2025-05-05T14:43:44.639Z"
   },
   {
    "duration": 47,
    "start_time": "2025-05-05T14:43:44.663Z"
   },
   {
    "duration": 15,
    "start_time": "2025-05-05T14:43:44.711Z"
   },
   {
    "duration": 19,
    "start_time": "2025-05-05T14:43:44.728Z"
   },
   {
    "duration": 6,
    "start_time": "2025-05-05T14:43:44.749Z"
   },
   {
    "duration": 6,
    "start_time": "2025-05-05T14:43:44.756Z"
   },
   {
    "duration": 4932,
    "start_time": "2025-05-05T14:43:44.763Z"
   },
   {
    "duration": 18,
    "start_time": "2025-05-05T14:43:49.697Z"
   },
   {
    "duration": 98,
    "start_time": "2025-05-05T14:43:49.717Z"
   },
   {
    "duration": 209,
    "start_time": "2025-05-05T14:43:49.817Z"
   },
   {
    "duration": 14,
    "start_time": "2025-05-05T14:43:50.027Z"
   },
   {
    "duration": 223,
    "start_time": "2025-05-05T14:43:50.043Z"
   },
   {
    "duration": 198,
    "start_time": "2025-05-05T14:43:50.268Z"
   },
   {
    "duration": 152,
    "start_time": "2025-05-05T14:43:50.468Z"
   },
   {
    "duration": 115,
    "start_time": "2025-05-05T14:43:50.621Z"
   },
   {
    "duration": 5,
    "start_time": "2025-05-05T14:43:50.738Z"
   },
   {
    "duration": 29,
    "start_time": "2025-05-05T14:43:50.745Z"
   },
   {
    "duration": 9,
    "start_time": "2025-05-05T14:43:50.776Z"
   },
   {
    "duration": 196,
    "start_time": "2025-05-05T14:43:50.787Z"
   },
   {
    "duration": 24,
    "start_time": "2025-05-05T14:43:50.985Z"
   },
   {
    "duration": 73233,
    "start_time": "2025-05-05T14:43:51.011Z"
   },
   {
    "duration": 98,
    "start_time": "2025-05-05T14:45:04.245Z"
   },
   {
    "duration": 9,
    "start_time": "2025-05-05T14:45:04.345Z"
   },
   {
    "duration": 112,
    "start_time": "2025-05-05T14:45:04.356Z"
   },
   {
    "duration": 5,
    "start_time": "2025-05-05T14:45:04.470Z"
   }
  ],
  "kernelspec": {
   "display_name": "Python 3",
   "language": "python",
   "name": "python3"
  },
  "language_info": {
   "codemirror_mode": {
    "name": "ipython",
    "version": 3
   },
   "file_extension": ".py",
   "mimetype": "text/x-python",
   "name": "python",
   "nbconvert_exporter": "python",
   "pygments_lexer": "ipython3",
   "version": "3.12.8"
  },
  "toc": {
   "base_numbering": 1,
   "nav_menu": {},
   "number_sections": true,
   "sideBar": true,
   "skip_h1_title": true,
   "title_cell": "Table of Contents",
   "title_sidebar": "Contents",
   "toc_cell": false,
   "toc_position": {},
   "toc_section_display": true,
   "toc_window_display": false
  }
 },
 "nbformat": 4,
 "nbformat_minor": 2
}
